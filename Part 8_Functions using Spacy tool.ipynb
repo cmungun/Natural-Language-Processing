{
 "cells": [
  {
   "cell_type": "markdown",
   "metadata": {},
   "source": [
    "# Spacy Tool"
   ]
  },
  {
   "cell_type": "markdown",
   "metadata": {},
   "source": [
    "spaCy is very useful and advanced open source library in Natural Language\n",
    "Processing and one of the fastest library as NLTK. spaCy tool gives access to methods and functionalities using API. spaCy can be easily installed using python packages and also need to download models and data to explore spacy library.By loading all the models, pipeline is created. Various types of models provided in library that includes the information of vocabularies, syntaxes, vectors and entities. Spacy supports languages such as Polish, Portugese, English, Spanish, Italian, Greek ,German, Danish etc.\n"
   ]
  },
  {
   "cell_type": "markdown",
   "metadata": {},
   "source": [
    "# Import and Load Model for english Language"
   ]
  },
  {
   "cell_type": "code",
   "execution_count": 125,
   "metadata": {},
   "outputs": [],
   "source": [
    "import spacy#import spacy package\n",
    "data = spacy.load(\"en_core_web_sm\")#load() function is used to access the properties of English language: en_core_web_sm"
   ]
  },
  {
   "cell_type": "code",
   "execution_count": 126,
   "metadata": {},
   "outputs": [],
   "source": [
    "text = \"\"\"I think most physicists would agree that Stephen Hawking’s greatest contribution is the prediction that black holes emit radiation,” says Sean Carroll, a theoretical physicist at the California Institute of Technology.\"\"\"\n",
    "doc = data(text)#text is defined above. data is a object that retuens all information with doc object."
   ]
  },
  {
   "cell_type": "markdown",
   "metadata": {},
   "source": [
    "# Preprocessing Step : Tokenization and stopwords"
   ]
  },
  {
   "cell_type": "markdown",
   "metadata": {},
   "source": [
    "In spaCy, Each text file is tokenized to sentence and then into tokens. Tokenization helps to recognize small units in text. This step is important because it helps to divide text into meaningful words. "
   ]
  },
  {
   "cell_type": "code",
   "execution_count": 127,
   "metadata": {},
   "outputs": [
    {
     "name": "stdout",
     "output_type": "stream",
     "text": [
      "Tokenized words :  ['I', 'think', 'most', 'physicists', 'would', 'agree', 'that', 'Stephen', 'Hawking', '’s']\n"
     ]
    }
   ],
   "source": [
    "Eng_token = [token.text for token in doc]#Divinding the text into tokens\n",
    "print(\"Tokenized words : \" ,Eng_token[:10])"
   ]
  },
  {
   "cell_type": "markdown",
   "metadata": {},
   "source": [
    "Importance of removing stopwords : out of 5 words, there can be 4 stop words which will never tell what the text is about. If stop words considers, we can't derive the meaningful insights from text.\n",
    "    Therefore, stopwords should be removed."
   ]
  },
  {
   "cell_type": "code",
   "execution_count": 128,
   "metadata": {},
   "outputs": [
    {
     "name": "stdout",
     "output_type": "stream",
     "text": [
      "Tokens_Without_stopwords :  [think, physicists, agree, Stephen, Hawking, greatest, contribution, prediction, black, holes]\n"
     ]
    }
   ],
   "source": [
    "Tokens_Without_stopwords = [token for token in doc if not token.is_stop]#Remove stopwords from text\n",
    "tokens = Tokens_Without_stopwords\n",
    "print (\"Tokens_Without_stopwords : \",Tokens_Without_stopwords[:10])"
   ]
  },
  {
   "cell_type": "markdown",
   "metadata": {},
   "source": [
    "# Part-of-Speech tags"
   ]
  },
  {
   "cell_type": "markdown",
   "metadata": {},
   "source": [
    "Part-of-speech is the process of assigning a parts of speech to tokens.\n",
    "parts of speech contains verb, noun,adjectives etc. Input to the POS tagging is tokens and output is tagged tokens."
   ]
  },
  {
   "cell_type": "code",
   "execution_count": 129,
   "metadata": {},
   "outputs": [
    {
     "name": "stdout",
     "output_type": "stream",
     "text": [
      "Token:  think , Root Word :  think , UPOS Tag :  VERB verb, non-3rd person singular present\n",
      "Token:  physicists , Root Word :  physicist , UPOS Tag :  NOUN noun, plural\n",
      "Token:  agree , Root Word :  agree , UPOS Tag :  VERB verb, base form\n",
      "Token:  Stephen , Root Word :  Stephen , UPOS Tag :  PROPN noun, proper singular\n",
      "Token:  Hawking , Root Word :  Hawking , UPOS Tag :  PROPN noun, proper singular\n",
      "Token:  greatest , Root Word :  great , UPOS Tag :  ADJ adjective, superlative\n",
      "Token:  contribution , Root Word :  contribution , UPOS Tag :  NOUN noun, singular or mass\n",
      "Token:  prediction , Root Word :  prediction , UPOS Tag :  NOUN noun, singular or mass\n",
      "Token:  black , Root Word :  black , UPOS Tag :  ADJ adjective\n",
      "Token:  holes , Root Word :  hole , UPOS Tag :  NOUN noun, plural\n",
      "Token:  emit , Root Word :  emit , UPOS Tag :  VERB verb, non-3rd person singular present\n",
      "Token:  radiation , Root Word :  radiation , UPOS Tag :  NOUN noun, singular or mass\n",
      "Token:  , , Root Word :  , , UPOS Tag :  PUNCT punctuation mark, comma\n",
      "Token:  ” , Root Word :  \" , UPOS Tag :  PUNCT closing quotation mark\n",
      "Token:  says , Root Word :  say , UPOS Tag :  VERB verb, 3rd person singular present\n",
      "Token:  Sean , Root Word :  Sean , UPOS Tag :  PROPN noun, proper singular\n",
      "Token:  Carroll , Root Word :  Carroll , UPOS Tag :  PROPN noun, proper singular\n",
      "Token:  , , Root Word :  , , UPOS Tag :  PUNCT punctuation mark, comma\n",
      "Token:  theoretical , Root Word :  theoretical , UPOS Tag :  ADJ adjective\n",
      "Token:  physicist , Root Word :  physicist , UPOS Tag :  NOUN noun, singular or mass\n",
      "Token:  California , Root Word :  California , UPOS Tag :  PROPN noun, proper singular\n",
      "Token:  Institute , Root Word :  Institute , UPOS Tag :  PROPN noun, proper singular\n",
      "Token:  Technology , Root Word :  Technology , UPOS Tag :  PROPN noun, proper singular\n",
      "Token:  . , Root Word :  . , UPOS Tag :  PUNCT punctuation mark, sentence closer\n"
     ]
    }
   ],
   "source": [
    "for token in tokens[:]:#token.tag : fine-grained part of speech,token.pos : coarse-grained part of speech\n",
    "     print (\"Token: \",token,\", Root Word : \",token.lemma_,\", UPOS Tag : \", token.pos_, spacy.explain(token.tag_))"
   ]
  },
  {
   "cell_type": "markdown",
   "metadata": {},
   "source": [
    "# Dependency Parsing"
   ]
  },
  {
   "cell_type": "markdown",
   "metadata": {},
   "source": [
    "It is the process of identifying a sentence and represents its syntactical structure.\n",
    "it shows the dependency between dependents and headwords.the sentence head ahs no dependency,called as root of the sentence.[2]\n",
    "Dependency can map in graphical representation such as words become nodes and grammatical relation by edges. It is used in Named Entity Recognition.[2]"
   ]
  },
  {
   "cell_type": "code",
   "execution_count": 130,
   "metadata": {},
   "outputs": [
    {
     "name": "stdout",
     "output_type": "stream",
     "text": [
      "Token :  Stephen , POS Tag :  NNP , Next Token :  Hawking , Syntactic Dependecy :  compound\n",
      "Token :  Hawking , POS Tag :  NNP , Next Token :  regarded , Syntactic Dependecy :  nsubjpass\n",
      "Token :  is , POS Tag :  VBZ , Next Token :  regarded , Syntactic Dependecy :  auxpass\n"
     ]
    }
   ],
   "source": [
    "#dependency parsing, nsubj--> (subject of word,headword is verb)\n",
    "text = data(\"Stephen Hawking is regarded as one of the most brilliant theoretical physicists since Einstein\")\n",
    "for token in text[:3]:\n",
    "    print(\"Token : \", token.text,\", POS Tag : \", token.tag_,\", Next Token : \", token.head.text,\", Syntactic Dependecy : \" ,token.dep_)"
   ]
  },
  {
   "cell_type": "code",
   "execution_count": 131,
   "metadata": {},
   "outputs": [
    {
     "data": {
      "text/html": [
       "<span class=\"tex2jax_ignore\"><svg xmlns=\"http://www.w3.org/2000/svg\" xmlns:xlink=\"http://www.w3.org/1999/xlink\" xml:lang=\"en\" id=\"563a8c3def914777a0774f0e962019d1-0\" class=\"displacy\" width=\"2850\" height=\"537.0\" direction=\"ltr\" style=\"max-width: none; height: 537.0px; color: #000000; background: #ffffff; font-family: Arial; direction: ltr\">\n",
       "<text class=\"displacy-token\" fill=\"currentColor\" text-anchor=\"middle\" y=\"447.0\">\n",
       "    <tspan class=\"displacy-word\" fill=\"currentColor\" x=\"50\">Stephen</tspan>\n",
       "    <tspan class=\"displacy-tag\" dy=\"2em\" fill=\"currentColor\" x=\"50\">PROPN</tspan>\n",
       "</text>\n",
       "\n",
       "<text class=\"displacy-token\" fill=\"currentColor\" text-anchor=\"middle\" y=\"447.0\">\n",
       "    <tspan class=\"displacy-word\" fill=\"currentColor\" x=\"250\">Hawking</tspan>\n",
       "    <tspan class=\"displacy-tag\" dy=\"2em\" fill=\"currentColor\" x=\"250\">PROPN</tspan>\n",
       "</text>\n",
       "\n",
       "<text class=\"displacy-token\" fill=\"currentColor\" text-anchor=\"middle\" y=\"447.0\">\n",
       "    <tspan class=\"displacy-word\" fill=\"currentColor\" x=\"450\">is</tspan>\n",
       "    <tspan class=\"displacy-tag\" dy=\"2em\" fill=\"currentColor\" x=\"450\">AUX</tspan>\n",
       "</text>\n",
       "\n",
       "<text class=\"displacy-token\" fill=\"currentColor\" text-anchor=\"middle\" y=\"447.0\">\n",
       "    <tspan class=\"displacy-word\" fill=\"currentColor\" x=\"650\">regarded</tspan>\n",
       "    <tspan class=\"displacy-tag\" dy=\"2em\" fill=\"currentColor\" x=\"650\">VERB</tspan>\n",
       "</text>\n",
       "\n",
       "<text class=\"displacy-token\" fill=\"currentColor\" text-anchor=\"middle\" y=\"447.0\">\n",
       "    <tspan class=\"displacy-word\" fill=\"currentColor\" x=\"850\">as</tspan>\n",
       "    <tspan class=\"displacy-tag\" dy=\"2em\" fill=\"currentColor\" x=\"850\">SCONJ</tspan>\n",
       "</text>\n",
       "\n",
       "<text class=\"displacy-token\" fill=\"currentColor\" text-anchor=\"middle\" y=\"447.0\">\n",
       "    <tspan class=\"displacy-word\" fill=\"currentColor\" x=\"1050\">one</tspan>\n",
       "    <tspan class=\"displacy-tag\" dy=\"2em\" fill=\"currentColor\" x=\"1050\">NUM</tspan>\n",
       "</text>\n",
       "\n",
       "<text class=\"displacy-token\" fill=\"currentColor\" text-anchor=\"middle\" y=\"447.0\">\n",
       "    <tspan class=\"displacy-word\" fill=\"currentColor\" x=\"1250\">of</tspan>\n",
       "    <tspan class=\"displacy-tag\" dy=\"2em\" fill=\"currentColor\" x=\"1250\">ADP</tspan>\n",
       "</text>\n",
       "\n",
       "<text class=\"displacy-token\" fill=\"currentColor\" text-anchor=\"middle\" y=\"447.0\">\n",
       "    <tspan class=\"displacy-word\" fill=\"currentColor\" x=\"1450\">the</tspan>\n",
       "    <tspan class=\"displacy-tag\" dy=\"2em\" fill=\"currentColor\" x=\"1450\">DET</tspan>\n",
       "</text>\n",
       "\n",
       "<text class=\"displacy-token\" fill=\"currentColor\" text-anchor=\"middle\" y=\"447.0\">\n",
       "    <tspan class=\"displacy-word\" fill=\"currentColor\" x=\"1650\">most</tspan>\n",
       "    <tspan class=\"displacy-tag\" dy=\"2em\" fill=\"currentColor\" x=\"1650\">ADV</tspan>\n",
       "</text>\n",
       "\n",
       "<text class=\"displacy-token\" fill=\"currentColor\" text-anchor=\"middle\" y=\"447.0\">\n",
       "    <tspan class=\"displacy-word\" fill=\"currentColor\" x=\"1850\">brilliant</tspan>\n",
       "    <tspan class=\"displacy-tag\" dy=\"2em\" fill=\"currentColor\" x=\"1850\">ADJ</tspan>\n",
       "</text>\n",
       "\n",
       "<text class=\"displacy-token\" fill=\"currentColor\" text-anchor=\"middle\" y=\"447.0\">\n",
       "    <tspan class=\"displacy-word\" fill=\"currentColor\" x=\"2050\">theoretical</tspan>\n",
       "    <tspan class=\"displacy-tag\" dy=\"2em\" fill=\"currentColor\" x=\"2050\">ADJ</tspan>\n",
       "</text>\n",
       "\n",
       "<text class=\"displacy-token\" fill=\"currentColor\" text-anchor=\"middle\" y=\"447.0\">\n",
       "    <tspan class=\"displacy-word\" fill=\"currentColor\" x=\"2250\">physicists</tspan>\n",
       "    <tspan class=\"displacy-tag\" dy=\"2em\" fill=\"currentColor\" x=\"2250\">NOUN</tspan>\n",
       "</text>\n",
       "\n",
       "<text class=\"displacy-token\" fill=\"currentColor\" text-anchor=\"middle\" y=\"447.0\">\n",
       "    <tspan class=\"displacy-word\" fill=\"currentColor\" x=\"2450\">since</tspan>\n",
       "    <tspan class=\"displacy-tag\" dy=\"2em\" fill=\"currentColor\" x=\"2450\">SCONJ</tspan>\n",
       "</text>\n",
       "\n",
       "<text class=\"displacy-token\" fill=\"currentColor\" text-anchor=\"middle\" y=\"447.0\">\n",
       "    <tspan class=\"displacy-word\" fill=\"currentColor\" x=\"2650\">Einstein</tspan>\n",
       "    <tspan class=\"displacy-tag\" dy=\"2em\" fill=\"currentColor\" x=\"2650\">PROPN</tspan>\n",
       "</text>\n",
       "\n",
       "<g class=\"displacy-arrow\">\n",
       "    <path class=\"displacy-arc\" id=\"arrow-563a8c3def914777a0774f0e962019d1-0-0\" stroke-width=\"2px\" d=\"M70,402.0 C70,302.0 235.0,302.0 235.0,402.0\" fill=\"none\" stroke=\"currentColor\"/>\n",
       "    <text dy=\"1.25em\" style=\"font-size: 0.8em; letter-spacing: 1px\">\n",
       "        <textPath xlink:href=\"#arrow-563a8c3def914777a0774f0e962019d1-0-0\" class=\"displacy-label\" startOffset=\"50%\" side=\"left\" fill=\"currentColor\" text-anchor=\"middle\">compound</textPath>\n",
       "    </text>\n",
       "    <path class=\"displacy-arrowhead\" d=\"M70,404.0 L62,392.0 78,392.0\" fill=\"currentColor\"/>\n",
       "</g>\n",
       "\n",
       "<g class=\"displacy-arrow\">\n",
       "    <path class=\"displacy-arc\" id=\"arrow-563a8c3def914777a0774f0e962019d1-0-1\" stroke-width=\"2px\" d=\"M270,402.0 C270,202.0 640.0,202.0 640.0,402.0\" fill=\"none\" stroke=\"currentColor\"/>\n",
       "    <text dy=\"1.25em\" style=\"font-size: 0.8em; letter-spacing: 1px\">\n",
       "        <textPath xlink:href=\"#arrow-563a8c3def914777a0774f0e962019d1-0-1\" class=\"displacy-label\" startOffset=\"50%\" side=\"left\" fill=\"currentColor\" text-anchor=\"middle\">nsubjpass</textPath>\n",
       "    </text>\n",
       "    <path class=\"displacy-arrowhead\" d=\"M270,404.0 L262,392.0 278,392.0\" fill=\"currentColor\"/>\n",
       "</g>\n",
       "\n",
       "<g class=\"displacy-arrow\">\n",
       "    <path class=\"displacy-arc\" id=\"arrow-563a8c3def914777a0774f0e962019d1-0-2\" stroke-width=\"2px\" d=\"M470,402.0 C470,302.0 635.0,302.0 635.0,402.0\" fill=\"none\" stroke=\"currentColor\"/>\n",
       "    <text dy=\"1.25em\" style=\"font-size: 0.8em; letter-spacing: 1px\">\n",
       "        <textPath xlink:href=\"#arrow-563a8c3def914777a0774f0e962019d1-0-2\" class=\"displacy-label\" startOffset=\"50%\" side=\"left\" fill=\"currentColor\" text-anchor=\"middle\">auxpass</textPath>\n",
       "    </text>\n",
       "    <path class=\"displacy-arrowhead\" d=\"M470,404.0 L462,392.0 478,392.0\" fill=\"currentColor\"/>\n",
       "</g>\n",
       "\n",
       "<g class=\"displacy-arrow\">\n",
       "    <path class=\"displacy-arc\" id=\"arrow-563a8c3def914777a0774f0e962019d1-0-3\" stroke-width=\"2px\" d=\"M670,402.0 C670,302.0 835.0,302.0 835.0,402.0\" fill=\"none\" stroke=\"currentColor\"/>\n",
       "    <text dy=\"1.25em\" style=\"font-size: 0.8em; letter-spacing: 1px\">\n",
       "        <textPath xlink:href=\"#arrow-563a8c3def914777a0774f0e962019d1-0-3\" class=\"displacy-label\" startOffset=\"50%\" side=\"left\" fill=\"currentColor\" text-anchor=\"middle\">prep</textPath>\n",
       "    </text>\n",
       "    <path class=\"displacy-arrowhead\" d=\"M835.0,404.0 L843.0,392.0 827.0,392.0\" fill=\"currentColor\"/>\n",
       "</g>\n",
       "\n",
       "<g class=\"displacy-arrow\">\n",
       "    <path class=\"displacy-arc\" id=\"arrow-563a8c3def914777a0774f0e962019d1-0-4\" stroke-width=\"2px\" d=\"M870,402.0 C870,302.0 1035.0,302.0 1035.0,402.0\" fill=\"none\" stroke=\"currentColor\"/>\n",
       "    <text dy=\"1.25em\" style=\"font-size: 0.8em; letter-spacing: 1px\">\n",
       "        <textPath xlink:href=\"#arrow-563a8c3def914777a0774f0e962019d1-0-4\" class=\"displacy-label\" startOffset=\"50%\" side=\"left\" fill=\"currentColor\" text-anchor=\"middle\">pobj</textPath>\n",
       "    </text>\n",
       "    <path class=\"displacy-arrowhead\" d=\"M1035.0,404.0 L1043.0,392.0 1027.0,392.0\" fill=\"currentColor\"/>\n",
       "</g>\n",
       "\n",
       "<g class=\"displacy-arrow\">\n",
       "    <path class=\"displacy-arc\" id=\"arrow-563a8c3def914777a0774f0e962019d1-0-5\" stroke-width=\"2px\" d=\"M1070,402.0 C1070,302.0 1235.0,302.0 1235.0,402.0\" fill=\"none\" stroke=\"currentColor\"/>\n",
       "    <text dy=\"1.25em\" style=\"font-size: 0.8em; letter-spacing: 1px\">\n",
       "        <textPath xlink:href=\"#arrow-563a8c3def914777a0774f0e962019d1-0-5\" class=\"displacy-label\" startOffset=\"50%\" side=\"left\" fill=\"currentColor\" text-anchor=\"middle\">prep</textPath>\n",
       "    </text>\n",
       "    <path class=\"displacy-arrowhead\" d=\"M1235.0,404.0 L1243.0,392.0 1227.0,392.0\" fill=\"currentColor\"/>\n",
       "</g>\n",
       "\n",
       "<g class=\"displacy-arrow\">\n",
       "    <path class=\"displacy-arc\" id=\"arrow-563a8c3def914777a0774f0e962019d1-0-6\" stroke-width=\"2px\" d=\"M1470,402.0 C1470,102.0 2245.0,102.0 2245.0,402.0\" fill=\"none\" stroke=\"currentColor\"/>\n",
       "    <text dy=\"1.25em\" style=\"font-size: 0.8em; letter-spacing: 1px\">\n",
       "        <textPath xlink:href=\"#arrow-563a8c3def914777a0774f0e962019d1-0-6\" class=\"displacy-label\" startOffset=\"50%\" side=\"left\" fill=\"currentColor\" text-anchor=\"middle\">det</textPath>\n",
       "    </text>\n",
       "    <path class=\"displacy-arrowhead\" d=\"M1470,404.0 L1462,392.0 1478,392.0\" fill=\"currentColor\"/>\n",
       "</g>\n",
       "\n",
       "<g class=\"displacy-arrow\">\n",
       "    <path class=\"displacy-arc\" id=\"arrow-563a8c3def914777a0774f0e962019d1-0-7\" stroke-width=\"2px\" d=\"M1670,402.0 C1670,302.0 1835.0,302.0 1835.0,402.0\" fill=\"none\" stroke=\"currentColor\"/>\n",
       "    <text dy=\"1.25em\" style=\"font-size: 0.8em; letter-spacing: 1px\">\n",
       "        <textPath xlink:href=\"#arrow-563a8c3def914777a0774f0e962019d1-0-7\" class=\"displacy-label\" startOffset=\"50%\" side=\"left\" fill=\"currentColor\" text-anchor=\"middle\">advmod</textPath>\n",
       "    </text>\n",
       "    <path class=\"displacy-arrowhead\" d=\"M1670,404.0 L1662,392.0 1678,392.0\" fill=\"currentColor\"/>\n",
       "</g>\n",
       "\n",
       "<g class=\"displacy-arrow\">\n",
       "    <path class=\"displacy-arc\" id=\"arrow-563a8c3def914777a0774f0e962019d1-0-8\" stroke-width=\"2px\" d=\"M1870,402.0 C1870,202.0 2240.0,202.0 2240.0,402.0\" fill=\"none\" stroke=\"currentColor\"/>\n",
       "    <text dy=\"1.25em\" style=\"font-size: 0.8em; letter-spacing: 1px\">\n",
       "        <textPath xlink:href=\"#arrow-563a8c3def914777a0774f0e962019d1-0-8\" class=\"displacy-label\" startOffset=\"50%\" side=\"left\" fill=\"currentColor\" text-anchor=\"middle\">amod</textPath>\n",
       "    </text>\n",
       "    <path class=\"displacy-arrowhead\" d=\"M1870,404.0 L1862,392.0 1878,392.0\" fill=\"currentColor\"/>\n",
       "</g>\n",
       "\n",
       "<g class=\"displacy-arrow\">\n",
       "    <path class=\"displacy-arc\" id=\"arrow-563a8c3def914777a0774f0e962019d1-0-9\" stroke-width=\"2px\" d=\"M2070,402.0 C2070,302.0 2235.0,302.0 2235.0,402.0\" fill=\"none\" stroke=\"currentColor\"/>\n",
       "    <text dy=\"1.25em\" style=\"font-size: 0.8em; letter-spacing: 1px\">\n",
       "        <textPath xlink:href=\"#arrow-563a8c3def914777a0774f0e962019d1-0-9\" class=\"displacy-label\" startOffset=\"50%\" side=\"left\" fill=\"currentColor\" text-anchor=\"middle\">amod</textPath>\n",
       "    </text>\n",
       "    <path class=\"displacy-arrowhead\" d=\"M2070,404.0 L2062,392.0 2078,392.0\" fill=\"currentColor\"/>\n",
       "</g>\n",
       "\n",
       "<g class=\"displacy-arrow\">\n",
       "    <path class=\"displacy-arc\" id=\"arrow-563a8c3def914777a0774f0e962019d1-0-10\" stroke-width=\"2px\" d=\"M1270,402.0 C1270,2.0 2250.0,2.0 2250.0,402.0\" fill=\"none\" stroke=\"currentColor\"/>\n",
       "    <text dy=\"1.25em\" style=\"font-size: 0.8em; letter-spacing: 1px\">\n",
       "        <textPath xlink:href=\"#arrow-563a8c3def914777a0774f0e962019d1-0-10\" class=\"displacy-label\" startOffset=\"50%\" side=\"left\" fill=\"currentColor\" text-anchor=\"middle\">pobj</textPath>\n",
       "    </text>\n",
       "    <path class=\"displacy-arrowhead\" d=\"M2250.0,404.0 L2258.0,392.0 2242.0,392.0\" fill=\"currentColor\"/>\n",
       "</g>\n",
       "\n",
       "<g class=\"displacy-arrow\">\n",
       "    <path class=\"displacy-arc\" id=\"arrow-563a8c3def914777a0774f0e962019d1-0-11\" stroke-width=\"2px\" d=\"M2270,402.0 C2270,302.0 2435.0,302.0 2435.0,402.0\" fill=\"none\" stroke=\"currentColor\"/>\n",
       "    <text dy=\"1.25em\" style=\"font-size: 0.8em; letter-spacing: 1px\">\n",
       "        <textPath xlink:href=\"#arrow-563a8c3def914777a0774f0e962019d1-0-11\" class=\"displacy-label\" startOffset=\"50%\" side=\"left\" fill=\"currentColor\" text-anchor=\"middle\">prep</textPath>\n",
       "    </text>\n",
       "    <path class=\"displacy-arrowhead\" d=\"M2435.0,404.0 L2443.0,392.0 2427.0,392.0\" fill=\"currentColor\"/>\n",
       "</g>\n",
       "\n",
       "<g class=\"displacy-arrow\">\n",
       "    <path class=\"displacy-arc\" id=\"arrow-563a8c3def914777a0774f0e962019d1-0-12\" stroke-width=\"2px\" d=\"M2470,402.0 C2470,302.0 2635.0,302.0 2635.0,402.0\" fill=\"none\" stroke=\"currentColor\"/>\n",
       "    <text dy=\"1.25em\" style=\"font-size: 0.8em; letter-spacing: 1px\">\n",
       "        <textPath xlink:href=\"#arrow-563a8c3def914777a0774f0e962019d1-0-12\" class=\"displacy-label\" startOffset=\"50%\" side=\"left\" fill=\"currentColor\" text-anchor=\"middle\">pobj</textPath>\n",
       "    </text>\n",
       "    <path class=\"displacy-arrowhead\" d=\"M2635.0,404.0 L2643.0,392.0 2627.0,392.0\" fill=\"currentColor\"/>\n",
       "</g>\n",
       "</svg></span>"
      ],
      "text/plain": [
       "<IPython.core.display.HTML object>"
      ]
     },
     "metadata": {},
     "output_type": "display_data"
    }
   ],
   "source": [
    "#displacy to view a nice visualization \n",
    "from spacy import displacy\n",
    "displacy.render(text1, style='dep',options = {'distance':200}, jupyter = True)"
   ]
  },
  {
   "cell_type": "markdown",
   "metadata": {},
   "source": [
    "# Named Entity Recognition"
   ]
  },
  {
   "cell_type": "markdown",
   "metadata": {},
   "source": [
    "NER is a technique to locate name entities in text and further classify it into predefined categories.\n",
    "like organizations, percentages,locations etc [1]. NER can be used to know about meaning of text. [1]\n",
    "ents property used to extract named entities."
   ]
  },
  {
   "cell_type": "code",
   "execution_count": 132,
   "metadata": {},
   "outputs": [
    {
     "name": "stdout",
     "output_type": "stream",
     "text": [
      "Entity :  Stephen Hawking , Entity Label :  PERSON People, including fictional\n",
      "Entity :  Sean Carroll , Entity Label :  PERSON People, including fictional\n",
      "Entity :  the California Institute of Technology , Entity Label :  ORG Companies, agencies, institutions, etc.\n"
     ]
    }
   ],
   "source": [
    "#ent.label : gives label to entity\n",
    "#ent.text : unicode text representation of entity\n",
    "#spacy.explain : gives detail descrption of label entity\n",
    "text = \"\"\"I think most physicists would agree that Stephen Hawking’s greatest contribution is the prediction that black holes emit radiation,” says Sean Carroll, a theoretical physicist at the California Institute of Technology.\"\"\"\n",
    "doc = data(text)#text is defined above. data is a object that retuens all information with doc object.\n",
    "for ent in doc.ents:\n",
    "    print(\"Entity : \",ent.text,\", Entity Label : \", ent.label_, spacy.explain(ent.label_))"
   ]
  },
  {
   "cell_type": "code",
   "execution_count": 133,
   "metadata": {},
   "outputs": [
    {
     "data": {
      "text/html": [
       "<span class=\"tex2jax_ignore\"><div class=\"entities\" style=\"line-height: 2.5; direction: ltr\">I think most physicists would agree that \n",
       "<mark class=\"entity\" style=\"background: #aa9cfc; padding: 0.45em 0.6em; margin: 0 0.25em; line-height: 1; border-radius: 0.35em;\">\n",
       "    Stephen Hawking\n",
       "    <span style=\"font-size: 0.8em; font-weight: bold; line-height: 1; border-radius: 0.35em; text-transform: uppercase; vertical-align: middle; margin-left: 0.5rem\">PERSON</span>\n",
       "</mark>\n",
       "’s greatest contribution is the prediction that black holes emit radiation,” says \n",
       "<mark class=\"entity\" style=\"background: #aa9cfc; padding: 0.45em 0.6em; margin: 0 0.25em; line-height: 1; border-radius: 0.35em;\">\n",
       "    Sean Carroll\n",
       "    <span style=\"font-size: 0.8em; font-weight: bold; line-height: 1; border-radius: 0.35em; text-transform: uppercase; vertical-align: middle; margin-left: 0.5rem\">PERSON</span>\n",
       "</mark>\n",
       ", a theoretical physicist at \n",
       "<mark class=\"entity\" style=\"background: #7aecec; padding: 0.45em 0.6em; margin: 0 0.25em; line-height: 1; border-radius: 0.35em;\">\n",
       "    the California Institute of Technology\n",
       "    <span style=\"font-size: 0.8em; font-weight: bold; line-height: 1; border-radius: 0.35em; text-transform: uppercase; vertical-align: middle; margin-left: 0.5rem\">ORG</span>\n",
       "</mark>\n",
       ".</div></span>"
      ],
      "text/plain": [
       "<IPython.core.display.HTML object>"
      ]
     },
     "metadata": {},
     "output_type": "display_data"
    }
   ],
   "source": [
    "displacy.render(doc, style='ent')#ent for NER representation,displacy to view a nice visualization of Named Entity "
   ]
  },
  {
   "cell_type": "markdown",
   "metadata": {},
   "source": [
    "# Conclusion:"
   ]
  },
  {
   "cell_type": "markdown",
   "metadata": {},
   "source": [
    "In NLP applications, Named Entity Recognition used for classifiaction and detection of entities.\n",
    "spacy is quite fast in dependency parsing and have less modules than nltk. spacy doesn't support multi-language.\n",
    "spacy have integrated word vectors feature."
   ]
  },
  {
   "cell_type": "markdown",
   "metadata": {},
   "source": [
    "# References"
   ]
  },
  {
   "cell_type": "markdown",
   "metadata": {},
   "source": [
    "[1]Schmitt, X. ( 1 ), J. ( 1 ) Robert, M. ( 1 ) Papadakis, Y. ( 1 ) Letraon, and S. ( 2 ) Kubler. 2020. “A Replicable Comparison Study of NER Software: StanfordNLP, NLTK, OpenNLP, SpaCy, Gate.” 2019 6th International Conference on Social Networks Analysis, Management and Security, SNAMS 2019, 338–43. Accessed June 22. doi:10.1109/SNAMS.2019.8931850."
   ]
  },
  {
   "cell_type": "markdown",
   "metadata": {},
   "source": [
    "[2]T. Vakare, K. Verma and V. Jain, \"Sentence Semantic Similarity Using Dependency Parsing,\" 2019 10th International Conference on Computing, Communication and Networking Technologies (ICCCNT), Kanpur, India, 2019, pp. 1-4, doi: 10.1109/ICCCNT45670.2019.8944671."
   ]
  },
  {
   "cell_type": "markdown",
   "metadata": {},
   "source": [
    "[3]Colic, Nico, and Fabio Rinaldi. 2019. “Improving SpaCy Dependency Annotation and PoS Tagging Web Service Using Independent NER Services.” Genomics & Informatics 17 (2): e21. https://doi.org/10.5808/gi.2019.17.2.e21.\n"
   ]
  }
 ],
 "metadata": {
  "kernelspec": {
   "display_name": "Python 3",
   "language": "python",
   "name": "python3"
  },
  "language_info": {
   "codemirror_mode": {
    "name": "ipython",
    "version": 3
   },
   "file_extension": ".py",
   "mimetype": "text/x-python",
   "name": "python",
   "nbconvert_exporter": "python",
   "pygments_lexer": "ipython3",
   "version": "3.7.4"
  }
 },
 "nbformat": 4,
 "nbformat_minor": 2
}
