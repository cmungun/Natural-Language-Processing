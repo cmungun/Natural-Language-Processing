{
 "cells": [
  {
   "cell_type": "markdown",
   "metadata": {},
   "source": [
    "# Text Pipeline Processing"
   ]
  },
  {
   "cell_type": "markdown",
   "metadata": {},
   "source": [
    "# Task 1: Import and Access Corpus"
   ]
  },
  {
   "cell_type": "code",
   "execution_count": 2,
   "metadata": {},
   "outputs": [],
   "source": [
    "#import library required for language processing\n",
    "#nltk: python nltk package--> natural language tool kit-->for NLP tasks\n",
    "#open source\n",
    "#nltk-->task performs-->tokenization, stemming,tagging,classification\n",
    "#import nltk package\n",
    "import nltk\n",
    "import os\n",
    "import nltk.corpus\n",
    "from nltk.stem.porter import *"
   ]
  },
  {
   "cell_type": "markdown",
   "metadata": {},
   "source": [
    "Corpus:A corpus can be defined as a collection of text documents. It can be thought as just a bunch of text files in a\n",
    "directory, often alongside many other directories of text files. custom corpora must be present within any of these given paths so it can be found by NLTK."
   ]
  },
  {
   "cell_type": "code",
   "execution_count": 3,
   "metadata": {},
   "outputs": [
    {
     "name": "stdout",
     "output_type": "stream",
     "text": [
      "['abc', 'abc.zip', 'alpino', 'alpino.zip', 'biocreative_ppi', 'biocreative_ppi.zip', 'brown', 'brown.zip', 'brown_tei', 'brown_tei.zip', 'cess_cat', 'cess_cat.zip', 'cess_esp', 'cess_esp.zip', 'chat80', 'chat80.zip', 'city_database', 'city_database.zip', 'cmudict', 'cmudict.zip', 'comparative_sentences', 'comparative_sentences.zip', 'comtrans.zip', 'conll2000', 'conll2000.zip', 'conll2002', 'conll2002.zip', 'conll2007.zip', 'crubadan', 'crubadan.zip', 'dependency_treebank', 'dependency_treebank.zip', 'dolch', 'dolch.zip', 'europarl_raw', 'europarl_raw.zip', 'floresta', 'floresta.zip', 'framenet_v15', 'framenet_v15.zip', 'framenet_v17', 'framenet_v17.zip', 'gazetteers', 'gazetteers.zip', 'genesis', 'genesis.zip', 'gutenberg', 'gutenberg.zip', 'ieer', 'ieer.zip', 'inaugural', 'inaugural.zip', 'indian', 'indian.zip', 'jeita.zip', 'kimmo', 'kimmo.zip', 'knbc.zip', 'lin_thesaurus', 'lin_thesaurus.zip', 'machado.zip', 'mac_morpho', 'mac_morpho.zip', 'masc_tagged.zip', 'movie_reviews', 'movie_reviews.zip', 'mte_teip5', 'mte_teip5.zip', 'names', 'names.zip', 'nombank.1.0.zip', 'nonbreaking_prefixes', 'nonbreaking_prefixes.zip', 'nps_chat', 'nps_chat.zip', 'omw', 'omw.zip', 'opinion_lexicon', 'opinion_lexicon.zip', 'panlex_swadesh.zip', 'paradigms', 'paradigms.zip', 'pil', 'pil.zip', 'pl196x', 'pl196x.zip', 'ppattach', 'ppattach.zip', 'problem_reports', 'problem_reports.zip', 'product_reviews_1', 'product_reviews_1.zip', 'product_reviews_2', 'product_reviews_2.zip', 'propbank.zip', 'pros_cons', 'pros_cons.zip', 'ptb', 'ptb.zip', 'qc', 'qc.zip', 'reuters.zip', 'rte', 'rte.zip', 'semcor.zip', 'senseval', 'senseval.zip', 'sentence_polarity', 'sentence_polarity.zip', 'sentiwordnet', 'sentiwordnet.zip', 'shakespeare', 'shakespeare.zip', 'sinica_treebank', 'sinica_treebank.zip', 'smultron', 'smultron.zip', 'state_union', 'state_union.zip', 'stopwords', 'stopwords.zip', 'subjectivity', 'subjectivity.zip', 'swadesh', 'swadesh.zip', 'switchboard', 'switchboard.zip', 'timit', 'timit.zip', 'toolbox', 'toolbox.zip', 'treebank', 'treebank.zip', 'twitter_samples', 'twitter_samples.zip', 'udhr', 'udhr.zip', 'udhr2', 'udhr2.zip', 'unicode_samples', 'unicode_samples.zip', 'universal_treebanks_v20.zip', 'verbnet', 'verbnet.zip', 'verbnet3', 'verbnet3.zip', 'webtext', 'webtext.zip', 'wordnet', 'wordnet.zip', 'wordnet_ic', 'wordnet_ic.zip', 'words', 'words.zip', 'ycoe', 'ycoe.zip']\n"
     ]
    }
   ],
   "source": [
    "#NLTK defines a list of data paths or directories in nltk.data.path.\n",
    "#'os' function gives the name of the operating system dependent module imported.\n",
    "print(os.listdir(nltk.data.find(\"corpora\")))"
   ]
  },
  {
   "cell_type": "markdown",
   "metadata": {},
   "source": [
    "# Task 2:Corpus - product_reviews_2, Access fileids"
   ]
  },
  {
   "cell_type": "code",
   "execution_count": 4,
   "metadata": {},
   "outputs": [
    {
     "data": {
      "text/plain": [
       "['Canon_PowerShot_SD500.txt',\n",
       " 'Canon_S100.txt',\n",
       " 'Diaper_Champ.txt',\n",
       " 'Hitachi_router.txt',\n",
       " 'Linksys_Router.txt',\n",
       " 'MicroMP3.txt',\n",
       " 'Nokia_6600.txt',\n",
       " 'README.txt',\n",
       " 'ipod.txt',\n",
       " 'norton.txt']"
      ]
     },
     "execution_count": 4,
     "metadata": {},
     "output_type": "execute_result"
    }
   ],
   "source": [
    "#acessing product_reviews_2 from corpora\n",
    "nltk.corpus.product_reviews_2.fileids()"
   ]
  },
  {
   "cell_type": "code",
   "execution_count": 5,
   "metadata": {},
   "outputs": [
    {
     "name": "stdout",
     "output_type": "stream",
     "text": [
      "<Text: Don ' t get this ... keep browsing...>\n",
      "11914\n"
     ]
    }
   ],
   "source": [
    "#ipod.txt is available in product_reviews_2 corpus\n",
    "review = nltk.Text(nltk.corpus.product_reviews_2.words('ipod.txt'))\n",
    "#print text\n",
    "print(review)\n",
    "#length of text from review\n",
    "print(len(review))"
   ]
  },
  {
   "cell_type": "markdown",
   "metadata": {},
   "source": [
    "# Task 3 : Print part of text"
   ]
  },
  {
   "cell_type": "code",
   "execution_count": 6,
   "metadata": {},
   "outputs": [
    {
     "name": "stdout",
     "output_type": "stream",
     "text": [
      ", it ' s medicore . iRiver ' s battery lasts four to five years . Also , the battery ' s AREN ' T USER REPLACEABLE . However , the Creative and iRiver players are ( Rio ' s isn ' t ), and they only cost around $ 30 to replace , while iPod charges shipping and technical support . The iPod ' s battery , 1 . 5 years . Yeah , pretty weak . Another thing you should know , the metal on the flip side of the iPod is very tacky , and scratches very easily . While all MP3 players are easy to scratch , the iPod is the worst of the Creative and iRiver . Also , not liking the gel case . iRiver ' s seems a lot more sturdier than the iPod ' s . FEATURES : Really , there aren ' t any features , unless you call the games a feature . There is no FM tuner , while there is no FM tuner on the Creative Zen ( on the micro version of the Zen there is a tuner ), the iRiver H10 - 20GB , the Rio Karma , and the iAudio X5 have FM tuners . There is also no voice recording , something most if not all MP3 players have that the iPod doesn ' t . There is no photo viewing option , however , there is a 20 GB photo iPod , but it costs $ 20 more . There is an alarm and timer , but most MP3 players have this feature . EASE OF USE / DESIGN : The iPod is a very easy to use MP3 player , and if you can ' t figure this out , you shouldn ' t even own one . The Click Wheel is a great design , something no one else came up with ( however , the iRiver has a touchpad ). I ' m probably the only person that dislikes the iTunes software . I just don ' t like it , the weird thing is , I don ' t know why I dislike it . Maybe because it doesn ' t have a lot of skins to choose from like WMP , but then again , I dislike WMP as well because it ' s slow on my computer . Anyhow , adding music to the player is easy . BATTERY LIFE : Pretty medicore at 12 hours , the Creative , iAudio , Rio , and iRiver players last longer . CUSTOMER SERVICE : Awful . Listen to this one , remember the battery statement I made earlier . If your battery dies and it ' s still under warranty , guess what , you ' re out of luck , because Apple doesn ' t cover the battery in the iPod warranty . They have the nerve to charge you $ 30 for a warrantied iPod . There technical service isn ' t helpful either ; they just read what ' s on their website and charge you $ 50 (+ toll fees ) to do it . At least Creative and iRiver ' s only charge toll fees like most companies . OVERALL : I highly dislike the iPod , even though the sound quality and design is above - average . Maybe in their 5th generation they ' ll add features to the iPod . But for now , pleases don ' t buy this , and buy a Creative Zen or the iRiver H10 "
     ]
    }
   ],
   "source": [
    "#print part of text from whole text \n",
    "for line in review[200:800]:\n",
    "    print(line, sep=' ',end= ' ') "
   ]
  },
  {
   "cell_type": "code",
   "execution_count": 24,
   "metadata": {},
   "outputs": [],
   "source": [
    "Eng_para = \"\"\", it ' s medicore . iRiver ' s battery lasts four to five years . Also , the battery ' s AREN ' T USER REPLACEABLE .\n",
    "However , the Creative and iRiver players are ( Rio ' s isn ' t ), and they only cost around $ 30 to replace , while iPod \n",
    "charges shipping and technical support . The iPod ' s battery , 1 . 5 years . Yeah , pretty weak . Another thing you should\n",
    "know , the metal on the flip side of the iPod is very tacky , and scratches very easily . While all MP3 players are easy to\n",
    "scratch , the iPod is the worst of the Creative and iRiver . Also , not liking the gel case . iRiver ' s seems a lot more \n",
    "sturdier than the iPod ' s . FEATURES : Really , there aren ' t any features , unless you call the games a feature . There\n",
    "is no FM tuner , while there is no FM tuner on the Creative Zen ( on the micro version of the Zen there is a tuner ), the \n",
    "iRiver H10 - 20GB , the Rio Karma , and the iAudio X5 have FM tuners . There is also no voice recording , something most if\n",
    "not all MP3 players have that the iPod doesn ' t . There is no photo viewing option , however , there is a 20 GB photo iPod\n",
    ", but it costs $ 20 more . There is an alarm and timer , but most MP3 players have this feature . EASE OF USE / DESIGN :\n",
    "The iPod is a very easy to use MP3 player , and if you can ' t figure this out , you shouldn ' t even own one . The Click\n",
    "Wheel is a great design , something no one else came up with ( however , the iRiver has a touchpad ). I ' m probably the \n",
    "only person that dislikes the iTunes software . I just don ' t like it , the weird thing is , I don ' t know why I dislike\n",
    "it . Maybe because it doesn ' t have a lot of skins to choose from like WMP , but then again , I dislike WMP as well\n",
    "because it ' s slow on my computer . Anyhow , adding music to the player is easy . BATTERY LIFE : Pretty medicore at 12\n",
    "hours , the Creative , iAudio , Rio , and iRiver players last longer . CUSTOMER SERVICE : Awful .  \"\"\""
   ]
  },
  {
   "cell_type": "markdown",
   "metadata": {},
   "source": [
    "# Task 4 : Tokenization"
   ]
  },
  {
   "cell_type": "markdown",
   "metadata": {},
   "source": [
    "Tokenization is the process of splitting the sentences into even smaller parts called 'tokens'.Tokenization is the first step in NLP. It is the process of breaking strings into tokens which in turn are small structures or units. Tokenization involves three steps which are breaking a complex sentence into words, understanding the importance of each word with respect to the sentence and finally produce structural description on an input sentence."
   ]
  },
  {
   "cell_type": "markdown",
   "metadata": {},
   "source": [
    "# 1.Sentence Tokenizer"
   ]
  },
  {
   "cell_type": "markdown",
   "metadata": {},
   "source": [
    "Divide input text into sentences"
   ]
  },
  {
   "cell_type": "code",
   "execution_count": 26,
   "metadata": {},
   "outputs": [
    {
     "data": {
      "text/plain": [
       "[\", it ' s medicore .\",\n",
       " \"iRiver ' s battery lasts four to five years .\",\n",
       " \"Also , the battery ' s AREN ' T USER REPLACEABLE .\",\n",
       " \"However , the Creative and iRiver players are ( Rio ' s isn ' t ), and they only cost around $ 30 to replace , while iPod \\ncharges shipping and technical support .\",\n",
       " \"The iPod ' s battery , 1 .\",\n",
       " '5 years .',\n",
       " 'Yeah , pretty weak .',\n",
       " 'Another thing you should\\nknow , the metal on the flip side of the iPod is very tacky , and scratches very easily .',\n",
       " 'While all MP3 players are easy to\\nscratch , the iPod is the worst of the Creative and iRiver .',\n",
       " 'Also , not liking the gel case .',\n",
       " \"iRiver ' s seems a lot more \\nsturdier than the iPod ' s .\",\n",
       " \"FEATURES : Really , there aren ' t any features , unless you call the games a feature .\",\n",
       " 'There\\nis no FM tuner , while there is no FM tuner on the Creative Zen ( on the micro version of the Zen there is a tuner ), the \\niRiver H10 - 20GB , the Rio Karma , and the iAudio X5 have FM tuners .',\n",
       " \"There is also no voice recording , something most if\\nnot all MP3 players have that the iPod doesn ' t .\",\n",
       " 'There is no photo viewing option , however , there is a 20 GB photo iPod\\n, but it costs $ 20 more .',\n",
       " 'There is an alarm and timer , but most MP3 players have this feature .',\n",
       " \"EASE OF USE / DESIGN :\\nThe iPod is a very easy to use MP3 player , and if you can ' t figure this out , you shouldn ' t even own one .\",\n",
       " 'The Click\\nWheel is a great design , something no one else came up with ( however , the iRiver has a touchpad ).',\n",
       " \"I ' m probably the \\nonly person that dislikes the iTunes software .\",\n",
       " \"I just don ' t like it , the weird thing is , I don ' t know why I dislike\\nit .\",\n",
       " \"Maybe because it doesn ' t have a lot of skins to choose from like WMP , but then again , I dislike WMP as well\\nbecause it ' s slow on my computer .\",\n",
       " 'Anyhow , adding music to the player is easy .',\n",
       " 'BATTERY LIFE : Pretty medicore at 12\\nhours , the Creative , iAudio , Rio , and iRiver players last longer .',\n",
       " 'CUSTOMER SERVICE : Awful .']"
      ]
     },
     "execution_count": 26,
     "metadata": {},
     "output_type": "execute_result"
    }
   ],
   "source": [
    "#sentence tokenization using sent_tokenize library from nltk\n",
    "from nltk.tokenize import sent_tokenize\n",
    "#sent_tokenize is a function \n",
    "eng_sent = sent_tokenize(Eng_para)\n",
    "#print sentences from above instruction\n",
    "eng_sent[:80]"
   ]
  },
  {
   "cell_type": "markdown",
   "metadata": {},
   "source": [
    "# 2.Word Tokenizer"
   ]
  },
  {
   "cell_type": "markdown",
   "metadata": {},
   "source": [
    "Divide Sentences into words"
   ]
  },
  {
   "cell_type": "code",
   "execution_count": 27,
   "metadata": {},
   "outputs": [
    {
     "name": "stdout",
     "output_type": "stream",
     "text": [
      "[',', 'it', \"'\", 's', 'medicore', '.', 'iRiver', \"'\", 's', 'battery', 'lasts', 'four', 'to', 'five', 'years', '.', 'Also', ',', 'the', 'battery', \"'\", 's', 'AREN', \"'\", 'T', 'USER', 'REPLACEABLE', '.', 'However', ',', 'the', 'Creative', 'and', 'iRiver', 'players', 'are', '(', 'Rio', \"'\", 's', 'isn', \"'\", 't', ')', ',', 'and', 'they', 'only', 'cost', 'around', '$', '30', 'to', 'replace', ',', 'while', 'iPod', 'charges', 'shipping', 'and', 'technical', 'support', '.', 'The', 'iPod', \"'\", 's', 'battery', ',', '1', '.', '5', 'years', '.', 'Yeah', ',', 'pretty', 'weak', '.', 'Another', 'thing', 'you', 'should', 'know', ',', 'the', 'metal', 'on', 'the', 'flip', 'side', 'of', 'the', 'iPod', 'is', 'very', 'tacky', ',', 'and', 'scratches']\n"
     ]
    }
   ],
   "source": [
    "# Import library word_tokenizer from nltk\n",
    "from nltk.tokenize import word_tokenize\n",
    "#word_tokenize function \n",
    "Eng_tokens = word_tokenize(Eng_para)\n",
    "#print words from above function\n",
    "print(Eng_tokens[:100])\n",
    "#arathi_tokens"
   ]
  },
  {
   "cell_type": "markdown",
   "metadata": {},
   "source": [
    "# 3. Total tokens in selected text"
   ]
  },
  {
   "cell_type": "code",
   "execution_count": 10,
   "metadata": {},
   "outputs": [
    {
     "data": {
      "text/plain": [
       "1010"
      ]
     },
     "execution_count": 10,
     "metadata": {},
     "output_type": "execute_result"
    }
   ],
   "source": [
    "len(Eng_tokens)"
   ]
  },
  {
   "cell_type": "code",
   "execution_count": 11,
   "metadata": {},
   "outputs": [
    {
     "data": {
      "text/plain": [
       "list"
      ]
     },
     "execution_count": 11,
     "metadata": {},
     "output_type": "execute_result"
    }
   ],
   "source": [
    "#type of tokens\n",
    "type(Eng_tokens)"
   ]
  },
  {
   "cell_type": "markdown",
   "metadata": {},
   "source": [
    "# 4. All Tokens in Sorted Order"
   ]
  },
  {
   "cell_type": "code",
   "execution_count": 12,
   "metadata": {},
   "outputs": [
    {
     "name": "stdout",
     "output_type": "stream",
     "text": [
      "['!', '$', \"'\", '(', ')', '+', ',', '-', '.', '/', '000', '1', '10', '12', '1984', '20', '20GB', '30', '5', '50', '5000', '5th', '99', ':', ';', '?', 'AAC', 'AREN', 'Also', 'Another', 'Anyhow', 'Apple', 'At', 'Awful', 'BATTERY', 'Battery', 'But', 'CDs', 'CUSTOMER', 'Click', 'Company', 'Computer', 'Creative', 'DESIGN', 'Doesn', 'EASE', 'FEATURES', 'FM', 'GB', 'God', 'H10', 'How', 'However', 'I', 'If', 'Ipod', 'It', 'Jobs', 'Karma', 'LIFE', 'Listen', 'Long', 'MP3', 'Mac', 'Macs', 'Maybe', 'OF', 'OVERALL', 'Pretty', 'REPLACEABLE', 'Really', 'Rio', 'SERVICE', 'Save', 'Since', 'Store', 'T', 'The', 'There', 'They', 'This', 'USE', 'USER', 'Very', 'WMP', 'Wheel', 'While', 'Wow', 'X5', 'Yeah', 'You', 'Zen', 'a', 'able', 'above', 'actually', 'add', 'adding', 'again', 'alarm', 'all', 'allows', 'alot', 'also', 'an', 'and', 'any', 'are', 'aren', 'around', 'as', 'at', 'average', 'awful', 'back', 'backlit', 'battery', 'because', 'been', 'before', 'best', 'brilliant', 'bud', 'but', 'buttons', 'buy', 'by', 'call', 'came', 'can', 'case', 'cents', 'charge', 'charges', 'choice', 'choose', 'chrome', 'click', 'companies', 'computer', 'cool', 'cost', 'costs', 'cousin', 'cover', 'current', 'design', 'devotee', 'did', 'dies', 'digital', 'dislike', 'dislikes', 'do', 'documents', 'doesn', 'don', 'download', 'drive', 'ear', 'earlier', 'early', 'easily', 'easy', 'either', 'elegant', 'else', 'etc', 'even', 'excellent', 'external', 'fast', 'feature', 'features', 'fees', 'figure', 'fine', 'finish', 'first', 'five', 'flip', 'for', 'formats', 'four', 'from', 'functionality', 'games', 'gel', 'generation', 'gig', 'gigabyte', 'give', 'good', 'got', 'great', 'guess', 'hand', 'hard', 'has', 'have', 'helpful', 'highly', 'holds', 'hours', 'however', 'iAudio', 'iPod', 'iRiver', 'iTunes', 'if', 'improving', 'in', 'included', 'includes', 'instead', 'ipod', 'is', 'isn', 'it', 'just', 'keeps', 'kind', 'know', 'last', 'lasts', 'least', 'life', 'like', 'liking', 'listen', 'live', 'll', 'long', 'longer', 'looks', 'lot', 'luck', 'm', 'macs', 'made', 'medicore', 'menus', 'metal', 'micro', 'more', 'most', 'move', 'music', 'my', 'navigate', 'navigation', 'nerve', 'new', 'no', 'not', 'now', 'of', 'offerings', 'on', 'one', 'only', 'onto', 'option', 'or', 'out', 'own', 'palm', 'per', 'person', 'photo', 'piece', 'play', 'player', 'players', 'pleases', 'pretty', 'probably', 'prone', 'protect', 'put', 'quality', 're', 'read', 'recording', 'remember', 'replace', 'right', 'rip', 's', 'satisfactory', 'scratch', 'scratches', 'screen', 'scrolling', 'seems', 'selection', 'service', 'shipping', 'should', 'shouldn', 'side', 'since', 'skins', 'slow', 'software', 'some', 'something', 'song', 'songs', 'sound', 'statement', 'still', 'strong', 'sturdier', 'sturdy', 'styling', 'support', 'surface', 't', 'tacky', 'technical', 'than', 'that', 'the', 'their', 'then', 'there', 'they', 'thing', 'things', 'this', 'though', 'through', 'time', 'timer', 'to', 'toll', 'ton', 'touch', 'touchpad', 'tuner', 'tuners', 'twelve', 'under', 'unless', 'up', 'use', 'users', 'version', 'very', 'via', 'viewing', 'voice', 'warrantied', 'warranty', 'was', 'we', 'weak', 'website', 'weird', 'well', 'what', 'wheel', 'when', 'which', 'while', 'why', 'will', 'with', 'worst', 'years', 'you', 'your']\n"
     ]
    }
   ],
   "source": [
    "#sorted() function is used to sort all tokens in ascending order\n",
    "vocabulary = sorted(set(Eng_tokens))\n",
    "#print vocabulary\n",
    "print(vocabulary)"
   ]
  },
  {
   "cell_type": "markdown",
   "metadata": {},
   "source": [
    "# 5. Frequency Distinct in The Text"
   ]
  },
  {
   "cell_type": "code",
   "execution_count": 13,
   "metadata": {},
   "outputs": [
    {
     "data": {
      "text/plain": [
       "FreqDist({',': 60, '.': 54, 'the': 50, 'and': 30, \"'\": 28, 'iPod': 25, 'is': 23, 'to': 22, 'a': 20, 'of': 18, ...})"
      ]
     },
     "execution_count": 13,
     "metadata": {},
     "output_type": "execute_result"
    }
   ],
   "source": [
    "#count the frequency of tokens\n",
    "#importing FreqDist\n",
    "from nltk.probability import FreqDist\n",
    "fdist = FreqDist(Eng_tokens)\n",
    "#prnt frequency\n",
    "fdist"
   ]
  },
  {
   "cell_type": "markdown",
   "metadata": {},
   "source": [
    "# Task 5 : Stemmer"
   ]
  },
  {
   "cell_type": "markdown",
   "metadata": {},
   "source": [
    "Stemming refers to reducing a word to its root form. Stemming need to convert text into toknes. after that,stem each word of the token list.Stemming is a kind of normalization for words. Normalization is a technique where a set of words in a sentence are converted into a sequence to shorten its lookup. The words which have the same meaning but have some variation according to the context or sentence are normalized. stem might not be an actual word."
   ]
  },
  {
   "cell_type": "markdown",
   "metadata": {},
   "source": [
    "# 1. Porter stemmer"
   ]
  },
  {
   "cell_type": "markdown",
   "metadata": {},
   "source": [
    "The Porter stemming is a process for removing the commoner morphological and inflexional endings from words in English.\n",
    "Its main use is as part of a term normalisation process that is usually done when setting up Information Retrieval systems."
   ]
  },
  {
   "cell_type": "code",
   "execution_count": 14,
   "metadata": {},
   "outputs": [
    {
     "name": "stdout",
     "output_type": "stream",
     "text": [
      "I -------> I\n",
      "have -------> have\n",
      "been -------> been\n",
      "a -------> a\n",
      "devotee -------> devote\n",
      "of -------> of\n",
      "the -------> the\n",
      "elegant -------> eleg\n",
      "styling -------> style\n",
      "and -------> and\n",
      "functionality -------> function\n",
      "of -------> of\n",
      "all -------> all\n",
      "things -------> thing\n",
      "Apple -------> appl\n",
      ". -------> .\n"
     ]
    }
   ],
   "source": [
    "#nltk.stem performs stemming using different classes\n",
    "from nltk.stem import PorterStemmer\n",
    "pst = PorterStemmer()\n",
    "#sentence from above text\n",
    "sentence =  \"I have been a devotee of the elegant styling and functionality of all things Apple .\"\n",
    "words = word_tokenize(sentence) \n",
    "for w in words: \n",
    "    print(w, \"------->\", pst.stem(w)) "
   ]
  },
  {
   "cell_type": "markdown",
   "metadata": {},
   "source": [
    "# 2.Snowballstemmer"
   ]
  },
  {
   "cell_type": "markdown",
   "metadata": {},
   "source": [
    "Snowball stemmer is a slightly improved version of the Porter stemmer and is usually preferred over the latter"
   ]
  },
  {
   "cell_type": "code",
   "execution_count": 15,
   "metadata": {},
   "outputs": [
    {
     "name": "stdout",
     "output_type": "stream",
     "text": [
      "I -------> i\n",
      "have -------> have\n",
      "been -------> been\n",
      "a -------> a\n",
      "devotee -------> devote\n",
      "of -------> of\n",
      "the -------> the\n",
      "elegant -------> eleg\n",
      "styling -------> style\n",
      "and -------> and\n",
      "functionality -------> function\n",
      "of -------> of\n",
      "all -------> all\n",
      "things -------> thing\n",
      ". -------> .\n"
     ]
    }
   ],
   "source": [
    "#using sentences\n",
    "from nltk.stem.snowball import SnowballStemmer\n",
    "stemmer = SnowballStemmer(language='english')\n",
    "sentence1 =  \"I have been a devotee of the elegant styling and functionality of all things .\"\n",
    "words1 = word_tokenize(sentence1) \n",
    "for w in words1: \n",
    "    print(w, \"------->\",stemmer.stem(w))"
   ]
  },
  {
   "cell_type": "markdown",
   "metadata": {},
   "source": [
    " Using tokens "
   ]
  },
  {
   "cell_type": "code",
   "execution_count": 16,
   "metadata": {},
   "outputs": [
    {
     "name": "stdout",
     "output_type": "stream",
     "text": [
      "scratch --> scratch\n",
      "scratches --> scratch\n",
      "screen --> screen\n",
      "scrolling --> scroll\n",
      "seems --> seem\n",
      "selection --> select\n",
      "service --> servic\n",
      "shipping --> ship\n",
      "should --> should\n"
     ]
    }
   ],
   "source": [
    "from nltk.stem.snowball import SnowballStemmer\n",
    "\n",
    "stemmer = SnowballStemmer(language='english')\n",
    "tokens = ['scratch', 'scratches', 'screen', 'scrolling', 'seems', 'selection', 'service', 'shipping', 'should']\n",
    "for token in tokens:\n",
    "    print(token + ' --> ' + stemmer.stem(token))"
   ]
  },
  {
   "cell_type": "markdown",
   "metadata": {},
   "source": [
    "# 3.Lemmatization"
   ]
  },
  {
   "cell_type": "markdown",
   "metadata": {},
   "source": [
    "Lemmatization reduces the word to its stem as it appears in the dictionary. The stems returned through lemmatization are actual dictionary words and are semantically complete unlike the words returned by stemmer.  lemma is an actual language word. Lemmatization is the algorithmic process of finding the lemma of a word depending on their meaning. Lemmatization usually refers to the morphological analysis of words, which aims to remove inflectional endings. It helps in returning the base or dictionary form of a word, which is known as the lemma. "
   ]
  },
  {
   "cell_type": "code",
   "execution_count": 17,
   "metadata": {},
   "outputs": [
    {
     "name": "stderr",
     "output_type": "stream",
     "text": [
      "[nltk_data] Downloading package wordnet to\n",
      "[nltk_data]     C:\\Users\\pjyaw\\AppData\\Roaming\\nltk_data...\n",
      "[nltk_data]   Package wordnet is already up-to-date!\n"
     ]
    },
    {
     "data": {
      "text/plain": [
       "True"
      ]
     },
     "execution_count": 17,
     "metadata": {},
     "output_type": "execute_result"
    }
   ],
   "source": [
    "nltk.download('wordnet')"
   ]
  },
  {
   "cell_type": "code",
   "execution_count": 18,
   "metadata": {},
   "outputs": [
    {
     "name": "stdout",
     "output_type": "stream",
     "text": [
      "studies--->study\n",
      "studying--->studying\n",
      "cries--->cry\n",
      "cry--->cry\n"
     ]
    }
   ],
   "source": [
    "from nltk.stem import WordNetLemmatizer\n",
    "wordnet_lemmatizer = WordNetLemmatizer()\n",
    "text = \"studies studying cries cry\"\n",
    "tokenization = nltk.word_tokenize(text)\n",
    "for w in tokenization:\n",
    "    print(w+'--->'+wordnet_lemmatizer.lemmatize(w))  "
   ]
  },
  {
   "cell_type": "markdown",
   "metadata": {},
   "source": [
    "# Lemmatizer"
   ]
  },
  {
   "cell_type": "code",
   "execution_count": 19,
   "metadata": {},
   "outputs": [
    {
     "name": "stdout",
     "output_type": "stream",
     "text": [
      "Battery--->Battery\n",
      "life--->life\n",
      "keeps--->keep\n",
      "improving--->improve\n",
      "on--->on\n",
      "the--->the\n",
      "iPod--->iPod\n",
      "and--->and\n",
      "a--->a\n",
      "new--->new\n",
      "iPod--->iPod\n",
      "will--->will\n",
      "give--->give\n",
      "you--->you\n",
      "up--->up\n",
      "to--->to\n",
      "twelve--->twelve\n",
      "hours--->hours\n",
      "of--->of\n",
      "play--->play\n",
      "time--->time\n"
     ]
    }
   ],
   "source": [
    "from nltk.stem import WordNetLemmatizer\n",
    "wordnet_lemmatizer = WordNetLemmatizer()\n",
    "sentence = \"Battery life keeps improving on the iPod and a new iPod will give you up to twelve hours of play time\"\n",
    "punctuations=\"?:!.,;\"\n",
    "sentence_words = nltk.word_tokenize(sentence)\n",
    "for word in sentence_words:\n",
    "    if word in punctuations:\n",
    "        sentence_words.remove(word)\n",
    "for word in sentence_words:\n",
    "    print(word+'--->'+wordnet_lemmatizer.lemmatize(word,pos='v'))  "
   ]
  },
  {
   "cell_type": "markdown",
   "metadata": {},
   "source": [
    "# Task 6 : Part of Speech Tagging"
   ]
  },
  {
   "cell_type": "markdown",
   "metadata": {},
   "source": [
    "Part-of-speech tagging is used to assign parts of speech to each word of a given text (such as nouns, verbs, pronouns,\n",
    "adverbs, conjunction, adjectives, interjection) based on its definition and its context. There are many tools available for\n",
    "POS taggers and some of the widely used taggers are NLTK, Spacy."
   ]
  },
  {
   "cell_type": "markdown",
   "metadata": {},
   "source": [
    "pos_tag() function needs to be passed a tokenized sentence for tagging. The tagging is done by way of a trained model \n",
    "in the NLTK library. The included POS tagger is not perfect but it does yield pretty accurate results."
   ]
  },
  {
   "cell_type": "code",
   "execution_count": 28,
   "metadata": {},
   "outputs": [
    {
     "name": "stdout",
     "output_type": "stream",
     "text": [
      "[(',', ','), ('it', 'PRP'), (\"'\", \"''\"), ('s', 'JJ'), ('medicore', 'NN'), ('.', '.'), ('iRiver', 'NN'), (\"'\", \"''\"), ('s', 'JJ'), ('battery', 'NN'), ('lasts', 'VBZ'), ('four', 'CD'), ('to', 'TO'), ('five', 'CD'), ('years', 'NNS'), ('.', '.'), ('Also', 'RB'), (',', ','), ('the', 'DT'), ('battery', 'NN'), (\"'\", 'POS'), ('s', 'JJ'), ('AREN', 'NNP'), (\"'\", 'POS'), ('T', 'NNP'), ('USER', 'NNP'), ('REPLACEABLE', 'NNP'), ('.', '.'), ('However', 'RB'), (',', ','), ('the', 'DT'), ('Creative', 'NNP'), ('and', 'CC'), ('iRiver', 'NN'), ('players', 'NNS'), ('are', 'VBP'), ('(', '('), ('Rio', 'NNP'), (\"'\", 'POS'), ('s', 'NN'), ('isn', 'NN'), (\"'\", \"''\"), ('t', 'NN'), (')', ')'), (',', ','), ('and', 'CC'), ('they', 'PRP'), ('only', 'RB'), ('cost', 'VBP'), ('around', 'RB'), ('$', '$'), ('30', 'CD'), ('to', 'TO'), ('replace', 'VB'), (',', ','), ('while', 'IN'), ('iPod', 'NN'), ('charges', 'NNS'), ('shipping', 'VBG'), ('and', 'CC'), ('technical', 'JJ'), ('support', 'NN'), ('.', '.'), ('The', 'DT'), ('iPod', 'NN'), (\"'\", 'POS'), ('s', 'JJ'), ('battery', 'NN'), (',', ','), ('1', 'CD'), ('.', '.'), ('5', 'CD'), ('years', 'NNS'), ('.', '.'), ('Yeah', 'UH'), (',', ','), ('pretty', 'JJ'), ('weak', 'JJ'), ('.', '.'), ('Another', 'DT'), ('thing', 'NN'), ('you', 'PRP'), ('should', 'MD'), ('know', 'VB'), (',', ','), ('the', 'DT'), ('metal', 'NN'), ('on', 'IN'), ('the', 'DT'), ('flip', 'JJ'), ('side', 'NN'), ('of', 'IN'), ('the', 'DT'), ('iPod', 'NN'), ('is', 'VBZ'), ('very', 'RB'), ('tacky', 'JJ'), (',', ','), ('and', 'CC'), ('scratches', 'NNS')]\n"
     ]
    }
   ],
   "source": [
    "#pos_tag() function is used\n",
    "print(nltk.pos_tag(Eng_tokens[:100]))"
   ]
  },
  {
   "cell_type": "code",
   "execution_count": 21,
   "metadata": {},
   "outputs": [],
   "source": [
    "#JJ adjective ‘big’-------------------------> 's'\n",
    "#JJS adjective, superlative ‘biggest-------->  'I'\n",
    "#PRP personal pronoun I, he, she------------>  'they'\n",
    "#NNP proper noun, singular------------------>  'Anyhow'\n",
    "#VBN verb, past participle taken------------>  'been'\n",
    "#IN preposition/subordinating conjunction--->  'though'"
   ]
  },
  {
   "cell_type": "code",
   "execution_count": 22,
   "metadata": {},
   "outputs": [
    {
     "name": "stdout",
     "output_type": "stream",
     "text": [
      "RB: adverb\n",
      "    occasionally unabatingly maddeningly adventurously professedly\n",
      "    stirringly prominently technologically magisterially predominately\n",
      "    swiftly fiscally pitilessly ...\n",
      "None\n"
     ]
    }
   ],
   "source": [
    "print (nltk.help.upenn_tagset('RB'))"
   ]
  },
  {
   "cell_type": "code",
   "execution_count": 23,
   "metadata": {},
   "outputs": [
    {
     "name": "stdout",
     "output_type": "stream",
     "text": [
      "JJ: adjective or numeral, ordinal\n",
      "    third ill-mannered pre-war regrettable oiled calamitous first separable\n",
      "    ectoplasmic battery-powered participatory fourth still-to-be-named\n",
      "    multilingual multi-disciplinary ...\n",
      "None\n"
     ]
    }
   ],
   "source": [
    "print (nltk.help.upenn_tagset('JJ'))"
   ]
  },
  {
   "cell_type": "code",
   "execution_count": null,
   "metadata": {},
   "outputs": [],
   "source": []
  }
 ],
 "metadata": {
  "kernelspec": {
   "display_name": "Python 3",
   "language": "python",
   "name": "python3"
  },
  "language_info": {
   "codemirror_mode": {
    "name": "ipython",
    "version": 3
   },
   "file_extension": ".py",
   "mimetype": "text/x-python",
   "name": "python",
   "nbconvert_exporter": "python",
   "pygments_lexer": "ipython3",
   "version": "3.7.4"
  }
 },
 "nbformat": 4,
 "nbformat_minor": 2
}
