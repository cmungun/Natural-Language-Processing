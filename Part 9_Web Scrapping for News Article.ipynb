{
 "cells": [
  {
   "cell_type": "markdown",
   "metadata": {},
   "source": [
    "# Web Scrapping for News Article"
   ]
  },
  {
   "cell_type": "code",
   "execution_count": 2,
   "metadata": {},
   "outputs": [
    {
     "name": "stdout",
     "output_type": "stream",
     "text": [
      "date =  07-03-20\n"
     ]
    }
   ],
   "source": [
    "from datetime import date\n",
    "today = date.today()\n",
    "d = today.strftime(\"%m-%d-%y\")\n",
    "print(\"date = \",d)"
   ]
  },
  {
   "cell_type": "markdown",
   "metadata": {},
   "source": [
    "# Extracting text from url for news article"
   ]
  },
  {
   "cell_type": "code",
   "execution_count": 3,
   "metadata": {},
   "outputs": [],
   "source": [
    "#url = \"https://edition.cnn.com/{}/india/delhi-hospital-crisis-coronavirus-hnk-intl/index.html\".format(d)\n",
    "#url = \"https://timesofindia.indiatimes.com/india/pending-cbse-class-x-xii-exams-cancelled-centre-tells-sc/articleshow/76622960.cms\"\n",
    "#url = \"https://www.gutenberg.org/files/2701/2701-h/2701-h.htm\"\n",
    "url = \"https://timesofindia.indiatimes.com/india/coronavirus-india-live-updates-total-toll-past-15000/liveblog/76634848.cms\""
   ]
  },
  {
   "cell_type": "code",
   "execution_count": 4,
   "metadata": {},
   "outputs": [
    {
     "name": "stdout",
     "output_type": "stream",
     "text": [
      "https://timesofindia.indiatimes.com/india/coronavirus-india-live-updates-total-toll-past-15000/liveblog/76634848.cms\n"
     ]
    }
   ],
   "source": [
    "print(url)"
   ]
  },
  {
   "cell_type": "code",
   "execution_count": 5,
   "metadata": {},
   "outputs": [],
   "source": [
    "from bs4 import BeautifulSoup\n",
    "import requests"
   ]
  },
  {
   "cell_type": "code",
   "execution_count": 6,
   "metadata": {},
   "outputs": [
    {
     "data": {
      "text/plain": [
       "requests.models.Response"
      ]
     },
     "execution_count": 6,
     "metadata": {},
     "output_type": "execute_result"
    }
   ],
   "source": [
    "response = requests.get(url)\n",
    "type(response)"
   ]
  },
  {
   "cell_type": "code",
   "execution_count": 7,
   "metadata": {},
   "outputs": [],
   "source": [
    "soup_dos = BeautifulSoup(response.content, \"lxml\")\n",
    "#cleantext = BeautifulSoup(raw_html, \"lxml\").text"
   ]
  },
  {
   "cell_type": "code",
   "execution_count": 8,
   "metadata": {},
   "outputs": [
    {
     "data": {
      "text/plain": [
       "<title>Coronavirus in India live updates: 8 states contributed 85% Covid-19 caseload, 87% deaths, says Health ministry </title>"
      ]
     },
     "execution_count": 8,
     "metadata": {},
     "output_type": "execute_result"
    }
   ],
   "source": [
    "soup_dos.title"
   ]
  },
  {
   "cell_type": "code",
   "execution_count": 9,
   "metadata": {},
   "outputs": [
    {
     "data": {
      "text/plain": [
       "'Coronavirus in India live updates: 8 states contributed 85% Covid-19 caseload, 87% deaths, says Health ministry '"
      ]
     },
     "execution_count": 9,
     "metadata": {},
     "output_type": "execute_result"
    }
   ],
   "source": [
    "soup_dos.title.string"
   ]
  },
  {
   "cell_type": "code",
   "execution_count": 10,
   "metadata": {},
   "outputs": [
    {
     "data": {
      "text/plain": [
       "[<a href=\"https://navbharattimes.indiatimes.com/\" rel=\"nofollow noopener noreferrer\" target=\"_blank\">हिन्दी</a>,\n",
       " <a href=\"https://maharashtratimes.indiatimes.com\" rel=\"nofollow noopener noreferrer\" target=\"_blank\">मराठी</a>,\n",
       " <a href=\"https://eisamay.indiatimes.com\" rel=\"nofollow noopener noreferrer\" target=\"_blank\">বাংলা<!-- --> </a>,\n",
       " <a href=\"https://www.iamgujarat.com/\" rel=\"nofollow noopener noreferrer\" target=\"_blank\">ગુજરાતી</a>,\n",
       " <a href=\"https://vijaykarnataka.indiatimes.com/\" rel=\"nofollow noopener noreferrer\" target=\"_blank\">ಕನ್ನಡ</a>,\n",
       " <a href=\"https://tamil.samayam.com\" rel=\"nofollow noopener noreferrer\" target=\"_blank\">தமிழ்</a>,\n",
       " <a href=\"https://telugu.samayam.com\" rel=\"nofollow noopener noreferrer\" target=\"_blank\">తెలుగు</a>,\n",
       " <a href=\"https://malayalam.samayam.com\" rel=\"nofollow noopener noreferrer\" target=\"_blank\">മലയാളം</a>]"
      ]
     },
     "execution_count": 10,
     "metadata": {},
     "output_type": "execute_result"
    }
   ],
   "source": [
    "soup_dos.findAll('a')[:8]"
   ]
  },
  {
   "cell_type": "code",
   "execution_count": 11,
   "metadata": {},
   "outputs": [],
   "source": [
    "text = soup_dos.get_text()"
   ]
  },
  {
   "cell_type": "code",
   "execution_count": 39,
   "metadata": {},
   "outputs": [
    {
     "data": {
      "text/plain": [
       "'Coronavirus in India live updates: 8 states contributed 85% Covid-19 caseload, 87% deaths, says Health ministry     {              \"@context\": \"http://schema.org\",              \"@type\": \"Organization\",              \"name\": \"Times of India\",              \"url\":\"https://timesofindia.indiatimes.com\",              \"logo\":{              \"@type\":\"ImageObject\",            \"url\":\"https://timesofindia.indiatimes.com/photo/58127550.cms\",            \"width\":600,            \"height\":60              }            }            {\"@context\":\"https://schema.org\",\"@type\":\"LiveBlogPosting\",\"url\":\"https://timesofindia.indiatimes.com/india/coronavirus-india-live-updates-total-toll-past-15000/liveblog/76634848.cms\",\"coverageStartTime\":\"2020-06-26T03:49:19+05:30\",\"headline\":\"Coronavirus live updates: Total lockdown every Sunday in Karnataka from July 5\",\"description\":\"Coronavirus update: India\\'s Covid-19 tally crossed 5 lakh mark with yet another highest single-day spike of 18,552 new cases. The country recorded 384 fatalities in last 24 hours, taking the nationwide toll to 15,685.\",\"image\":{\"@type\":\"ImageObject\",\"contentUrl\":\"https://timesofindia.indiatimes.com/thumb/msid-63780242,width-1200,height-900,resizemode-4/63780242.jpg\",\"width\":1200,\"height\":900,\"url\":\"https://static.toiimg.com/photo/msid-33550531/33550531.jpg\"},\"datePublished\":\"2020-06-26T03:49:19+05:30\",\"dateModified\":\"2020-06-27T23:28:49+05:30\",\"keywords\":\"Coronavirus, Coronavirus India, Coronavirus in India, COVID-19, India Coronavirus cases, Coronavirus cases in India, India, COVID-19 news\",\"publisher\":{\"@type\":\"Organization\",\"name\":\"Times Of India\",\"logo\":{\"@type\":\"ImageObject\",\"url\":\"https://static.toiimg.com/photo/msid-58127550/58127550.jpg\",\"width\":600,\"height\":60}},\"author\":{\"@type\":\"Organization\",\"sameAs\":\"https://timesofindia.indiatimes.com#publisher\",\"name\":\"Times Of India\"},\"liveBlogUpdate\":[{\"@type\":\"BlogPosting\",\"headline\":\"23:28(IST) \\\\\"If we are able to control the pandemic then there would be no need for lockdow'"
      ]
     },
     "execution_count": 39,
     "metadata": {},
     "output_type": "execute_result"
    }
   ],
   "source": [
    "text[:2000]"
   ]
  },
  {
   "cell_type": "markdown",
   "metadata": {},
   "source": [
    "# Preprocessing and cleaning the text"
   ]
  },
  {
   "cell_type": "code",
   "execution_count": 40,
   "metadata": {},
   "outputs": [],
   "source": [
    "appendingmode_bool = True\n",
    "output_str = ''\n",
    "for char_str in text:\n",
    "    if char_str == '>':\n",
    "        appendingmode_bool = False\n",
    "    elif char_str == '<':\n",
    "        appendingmode_bool = True\n",
    "        continue\n",
    "    if appendingmode_bool:\n",
    "        output_str += char_str"
   ]
  },
  {
   "cell_type": "code",
   "execution_count": 43,
   "metadata": {},
   "outputs": [
    {
     "data": {
      "text/plain": [
       "'Coronavirus in India live updates: 8 states contributed 85% Covid-19 caseload, 87% deaths, says Health ministry     {              \"@context\": \"http://schema.org\",              \"@type\": \"Organization\",              \"name\": \"Times of India\",              \"url\":\"https://timesofindia.indiatimes.com\",              \"logo\":{              \"@type\":\"ImageObject\",            \"url\":\"https://timesofindia.indiatimes.com/photo/58127550.cms\",            \"width\":600,            \"height\":60              }            }            {\"@context\":\"https://schema.org\",\"@type\":\"LiveBlogPosting\",\"url\":\"https://timesofindia.indiatimes.com/india/coronavirus-india-live-updates-total-toll-past-15000/liveblog/76634848.cms\",\"coverageStartTime\":\"2020-06-26T03:49:19+05:30\",\"headline\":\"Coronavirus live updates: Total lockdown every Sunday in Karnataka from July 5\",\"description\":\"Coronavirus update: India\\'s Covid-19 tally crossed 5 lakh mark with yet another highest single-day spike of 18,552 new cases. The country recorded 384 fatalities in last 24 hours, taking the nationwide toll to 15,685.\",\"image\":{\"@type\":\"ImageObject\",\"contentUrl\":\"https://timesofindia.indiatimes.com/thumb/msid-63780242,width-1200,height-900,resizemode-4/63780242.jpg\",\"width\":1200,\"height\":900,\"url\":\"https://static.toiimg.com/photo/msid-33550531/33550531.jpg\"},\"datePublished\":\"2020-06-26T03:49:19+05:30\",\"dateModified\":\"2020-06-27T23:28:49+05:30\",\"keywords\":\"Coronavirus, Coronavirus India, Coronavirus in India, COVID-19, India Coronavirus cases, Coronavirus cases in India, India, COVID-19 news\",\"publisher\":{\"@type\":\"Organization\",\"name\":\"Times Of India\",\"logo\":{\"@type\":\"ImageObject\",\"url\":\"https://static.toiimg.com/photo/msid-58127550/58127550.jpg\",\"width\":600,\"height\":60}},\"author\":{\"@type\":\"Organization\",\"sameAs\":\"https://timesofindia.indiatimes.com#publisher\",\"name\":\"Times Of India\"},\"liveBlogUpdate\":[{\"@type\":\"BlogPosting\",\"headline\":\"23:28(IST) \\\\\"If we are able to control the pandemic then there would be no need for lockdow'"
      ]
     },
     "execution_count": 43,
     "metadata": {},
     "output_type": "execute_result"
    }
   ],
   "source": [
    "text = output_str\n",
    "text[:2000]"
   ]
  },
  {
   "cell_type": "code",
   "execution_count": 44,
   "metadata": {},
   "outputs": [],
   "source": [
    "import nltk\n",
    "from nltk.tokenize import RegexpTokenizer\n",
    "from nltk.stem import WordNetLemmatizer,PorterStemmer\n",
    "from nltk.corpus import stopwords\n",
    "import re\n",
    "lemmatizer = WordNetLemmatizer()\n",
    "stemmer = PorterStemmer()"
   ]
  },
  {
   "cell_type": "code",
   "execution_count": 46,
   "metadata": {},
   "outputs": [
    {
     "data": {
      "text/plain": [
       "'Coronavirus in India live updates:  states contributed % Covid- caseload, % deaths, says Health ministry     {              \"@context\": \"              \"@type\": \"Organization\",              \"name\": \"Times of India\",              \"url\":\"              \"logo\":{              \"@type\":\"ImageObject\",            \"url\":\"            \"width\":,            \"height\":              }            }            {\"@context\":\" live updates: Total lockdown every Sunday in Karnataka from July \",\"description\":\"Coronavirus update: India\\'s Covid- tally crossed  lakh mark with yet another highest single-day spike of , new cases. The country recorded  fatalities in last  hours, taking the nationwide toll to ,.\",\"image\":{\"@type\":\"ImageObject\",\"contentUrl\":\" Coronavirus India, Coronavirus in India, COVID-, India Coronavirus cases, Coronavirus cases in India, India, COVID- news\",\"publisher\":{\"@type\":\"Organization\",\"name\":\"Times Of India\",\"logo\":{\"@type\":\"ImageObject\",\"url\":\" Of India\"},\"liveBlogUpdate\":[{\"@type\":\"BlogPosting\",\"headline\":\":(IST) \\\\\"If we are able to control the pandemic then there would be no need for lockdown but if it goes \",\"url\":\" Of India\",\"logo\":{\"@type\":\"ImageObject\",\"url\":\" Of India\"},\"mainEntityOfPage\":\" we are able to control the pandemic then there would be no need for lockdown but if it goes \"},{\"@type\":\"BlogPosting\",\"headline\":\":(IST) Karnataka government issues an order, directing private hospitals not to deny treatment to patie\",\"url\":\" Of India\",\"logo\":{\"@type\":\"ImageObject\",\"url\":\" Of India\"},\"mainEntityOfPage\":\" government issues an order, directing private hospitals not to deny treatment to patie\"},{\"@type\":\"BlogPosting\",\"headline\":\":(IST) People coming from Maharashtra will be placed in -day institutional quarantine followed by -da\",\"url\":\" Of India\",\"logo\":{\"@type\":\"ImageObject\",\"url\":\" Of India\"},\"mainEntityOfPage\":\" coming from Maharashtra will be placed in -day institutional quarantine followed by -da\"},{\"@type\":\"BlogPosting\",\"headline\":\":(IST) Bravery awards '"
      ]
     },
     "execution_count": 46,
     "metadata": {},
     "output_type": "execute_result"
    }
   ],
   "source": [
    "text=text.replace('{html}',\"\")\n",
    "text = re.sub('<[^<]+?>', '', text)\n",
    "cleanr = re.compile('<.*?>|&([a-z0-9]+|#[0-9]{1,6}|#x[0-9a-f]{1,6}|);')\n",
    "cleantext = re.sub(cleanr, '', text)\n",
    "rem_url=re.sub(r'http\\S+', '',cleantext)\n",
    "rem_num = re.sub('[0-9]+', '', rem_url)\n",
    "rem_num[:2000]"
   ]
  },
  {
   "cell_type": "markdown",
   "metadata": {},
   "source": [
    "# Tokenization"
   ]
  },
  {
   "cell_type": "code",
   "execution_count": 47,
   "metadata": {},
   "outputs": [],
   "source": [
    "tokenizer = RegexpTokenizer(r'\\w+')\n",
    "tokens = tokenizer.tokenize(rem_num)"
   ]
  },
  {
   "cell_type": "code",
   "execution_count": 51,
   "metadata": {},
   "outputs": [
    {
     "data": {
      "text/plain": [
       "['Coronavirus',\n",
       " 'in',\n",
       " 'India',\n",
       " 'live',\n",
       " 'updates',\n",
       " 'states',\n",
       " 'contributed',\n",
       " 'Covid',\n",
       " 'caseload',\n",
       " 'deaths',\n",
       " 'says',\n",
       " 'Health',\n",
       " 'ministry',\n",
       " 'context',\n",
       " 'type']"
      ]
     },
     "execution_count": 51,
     "metadata": {},
     "output_type": "execute_result"
    }
   ],
   "source": [
    "tokens[:15]"
   ]
  },
  {
   "cell_type": "code",
   "execution_count": 52,
   "metadata": {},
   "outputs": [
    {
     "data": {
      "text/plain": [
       "['coronavirus',\n",
       " 'in',\n",
       " 'india',\n",
       " 'live',\n",
       " 'updates',\n",
       " 'states',\n",
       " 'contributed',\n",
       " 'covid',\n",
       " 'caseload',\n",
       " 'deaths',\n",
       " 'says',\n",
       " 'health',\n",
       " 'ministry',\n",
       " 'context',\n",
       " 'type',\n",
       " 'organization',\n",
       " 'name',\n",
       " 'times',\n",
       " 'of',\n",
       " 'india']"
      ]
     },
     "execution_count": 52,
     "metadata": {},
     "output_type": "execute_result"
    }
   ],
   "source": [
    "# Initialize new list, make all tokens in lower case\n",
    "words = []\n",
    "for word in tokens:\n",
    "    words.append(word.lower())\n",
    "words[:20]"
   ]
  },
  {
   "cell_type": "markdown",
   "metadata": {},
   "source": [
    "# Remove stop Words"
   ]
  },
  {
   "cell_type": "code",
   "execution_count": 53,
   "metadata": {},
   "outputs": [],
   "source": [
    "word = [w for w in words if len(w) > 2 if not w in stopwords.words('english')]\n",
    "filtered_tokens = [w for w in word if len(w) < 15 if not w in stopwords.words('english')]"
   ]
  },
  {
   "cell_type": "code",
   "execution_count": 54,
   "metadata": {},
   "outputs": [],
   "source": [
    "filtered_tokens = [w for w in word if len(w) < 15 if not w in stopwords.words('english')]\n"
   ]
  },
  {
   "cell_type": "code",
   "execution_count": 55,
   "metadata": {},
   "outputs": [
    {
     "data": {
      "text/plain": [
       "['coronavirus',\n",
       " 'india',\n",
       " 'live',\n",
       " 'updates',\n",
       " 'states',\n",
       " 'contributed',\n",
       " 'covid',\n",
       " 'caseload',\n",
       " 'deaths',\n",
       " 'says',\n",
       " 'health',\n",
       " 'ministry',\n",
       " 'context',\n",
       " 'type',\n",
       " 'organization',\n",
       " 'name',\n",
       " 'times',\n",
       " 'india',\n",
       " 'url',\n",
       " 'logo']"
      ]
     },
     "execution_count": 55,
     "metadata": {},
     "output_type": "execute_result"
    }
   ],
   "source": [
    "filtered_tokens[:20]"
   ]
  },
  {
   "cell_type": "markdown",
   "metadata": {},
   "source": [
    "# Stemmer"
   ]
  },
  {
   "cell_type": "code",
   "execution_count": 56,
   "metadata": {},
   "outputs": [],
   "source": [
    "#stem_words=[stemmer.stem(w) for w in filtered_tokens]\n",
    "#stem_words"
   ]
  },
  {
   "cell_type": "code",
   "execution_count": 57,
   "metadata": {},
   "outputs": [
    {
     "data": {
      "text/plain": [
       "['coronavirus',\n",
       " 'india',\n",
       " 'live',\n",
       " 'update',\n",
       " 'state',\n",
       " 'contributed',\n",
       " 'covid',\n",
       " 'caseload',\n",
       " 'death',\n",
       " 'say',\n",
       " 'health',\n",
       " 'ministry',\n",
       " 'context',\n",
       " 'type',\n",
       " 'organization',\n",
       " 'name',\n",
       " 'time',\n",
       " 'india',\n",
       " 'url',\n",
       " 'logo']"
      ]
     },
     "execution_count": 57,
     "metadata": {},
     "output_type": "execute_result"
    }
   ],
   "source": [
    "#lemma_words=[lemmatizer.lemmatize(w) for w in stem_words]\n",
    "lemma_words=[lemmatizer.lemmatize(w) for w in filtered_tokens]\n",
    "lemma_words[:20]"
   ]
  },
  {
   "cell_type": "code",
   "execution_count": 25,
   "metadata": {},
   "outputs": [],
   "source": [
    "stopwors = ['logo','url','imageobject','type','blogposting','headline','context','width','height','contenturl','blogposting','image']\n",
    "\n",
    "for word in list(lemma_words):  # iterating on a copy since removing will mess things up\n",
    "       if word in stopwors:\n",
    "            lemma_words.remove(word)"
   ]
  },
  {
   "cell_type": "code",
   "execution_count": 59,
   "metadata": {},
   "outputs": [
    {
     "data": {
      "text/plain": [
       "'coronavirus india live update state contributed covid caseload death say health ministry context type organization name time india url logo type imageobject url width height context live update total lockdown every sunday karnataka july description coronavirus update india covid tally crossed lakh mark yet another highest single day spike new case country recorded fatality last hour taking nationwide toll image type imageobject contenturl coronavirus india coronavirus india covid india coronavirus case coronavirus case india india covid news publisher type organization name time india logo type imageobject url india liveblogupdate type blogposting headline ist able control pandemic would need lockdown go url india logo type imageobject url india able control pandemic would need lockdown go type blogposting headline ist karnataka government issue order directing private hospital deny treatment patie url india logo type imageobject url india government issue order directing private hospi'"
      ]
     },
     "execution_count": 59,
     "metadata": {},
     "output_type": "execute_result"
    }
   ],
   "source": [
    "r = \" \".join(lemma_words)\n",
    "# 'rabbit' is removed\n",
    "r[:1000]"
   ]
  },
  {
   "cell_type": "markdown",
   "metadata": {},
   "source": [
    "# Tokenization"
   ]
  },
  {
   "cell_type": "code",
   "execution_count": 63,
   "metadata": {},
   "outputs": [
    {
     "data": {
      "text/plain": [
       "['coronavirus',\n",
       " 'india',\n",
       " 'live',\n",
       " 'update',\n",
       " 'state',\n",
       " 'contributed',\n",
       " 'covid',\n",
       " 'caseload',\n",
       " 'death',\n",
       " 'say',\n",
       " 'health',\n",
       " 'ministry',\n",
       " 'context',\n",
       " 'type',\n",
       " 'organization',\n",
       " 'name',\n",
       " 'time',\n",
       " 'india',\n",
       " 'url',\n",
       " 'logo']"
      ]
     },
     "execution_count": 63,
     "metadata": {},
     "output_type": "execute_result"
    }
   ],
   "source": [
    "tokens = tokenizer.tokenize(r)\n",
    "tokens[:20]"
   ]
  },
  {
   "cell_type": "markdown",
   "metadata": {},
   "source": [
    "# POS TAGGING"
   ]
  },
  {
   "cell_type": "code",
   "execution_count": 64,
   "metadata": {},
   "outputs": [
    {
     "data": {
      "text/plain": [
       "[('coronavirus', 'NN'),\n",
       " ('india', 'NN'),\n",
       " ('live', 'JJ'),\n",
       " ('updates', 'NNS'),\n",
       " ('states', 'NNS'),\n",
       " ('contributed', 'VBD'),\n",
       " ('covid', 'JJ'),\n",
       " ('caseload', 'NN'),\n",
       " ('deaths', 'NNS'),\n",
       " ('says', 'VBZ'),\n",
       " ('health', 'NN'),\n",
       " ('ministry', 'NN'),\n",
       " ('context', 'NN'),\n",
       " ('type', 'NN'),\n",
       " ('organization', 'NN'),\n",
       " ('name', 'NN'),\n",
       " ('times', 'NNS'),\n",
       " ('india', 'VBP'),\n",
       " ('url', 'JJ'),\n",
       " ('logo', 'NN')]"
      ]
     },
     "execution_count": 64,
     "metadata": {},
     "output_type": "execute_result"
    }
   ],
   "source": [
    "pos_tags = nltk.pos_tag(filtered_tokens)\n",
    "pos_tags[:20]"
   ]
  },
  {
   "cell_type": "markdown",
   "metadata": {},
   "source": [
    "# Chunk Parser"
   ]
  },
  {
   "cell_type": "code",
   "execution_count": 29,
   "metadata": {},
   "outputs": [],
   "source": [
    "grammar = \"NP: {<DT>?<JJ>*<NN><NNP><VBZ>?}\"\n",
    "#Using above defined grammer, created chunk parser\n",
    "cp = nltk.RegexpParser(grammar)\n",
    "#apply parser on pos tags\n",
    "result = cp.parse(pos_tags)"
   ]
  },
  {
   "cell_type": "code",
   "execution_count": 65,
   "metadata": {},
   "outputs": [
    {
     "name": "stdout",
     "output_type": "stream",
     "text": [
      "[('coronavirus', 'NN'), ('india', 'NN'), ('live', 'JJ'), ('updates', 'NNS'), ('states', 'NNS'), ('contributed', 'VBD'), ('covid', 'JJ'), ('caseload', 'NN'), ('deaths', 'NNS'), ('says', 'VBZ'), ('health', 'NN'), ('ministry', 'NN'), ('context', 'NN'), ('type', 'NN'), ('organization', 'NN'), ('name', 'NN'), ('times', 'NNS'), ('india', 'VBP'), ('url', 'JJ'), ('logo', 'NN')]\n"
     ]
    }
   ],
   "source": [
    "print(result[:20])"
   ]
  },
  {
   "cell_type": "code",
   "execution_count": 31,
   "metadata": {},
   "outputs": [],
   "source": [
    "# draw the tree\n",
    "#result.draw()"
   ]
  },
  {
   "cell_type": "code",
   "execution_count": 66,
   "metadata": {},
   "outputs": [
    {
     "name": "stdout",
     "output_type": "stream",
     "text": [
      "[('coronavirus', 'NN'), ('india', 'NN'), ('live', 'JJ'), ('updates', 'NNS'), ('states', 'NNS'), ('contributed', 'VBD'), ('covid', 'JJ'), ('caseload', 'NN'), ('deaths', 'NNS'), ('says', 'VBZ'), ('health', 'NN'), ('ministry', 'NN'), ('context', 'NN'), ('type', 'NN'), ('organization', 'NN'), ('name', 'NN'), ('times', 'NNS'), ('india', 'VBP'), ('url', 'JJ'), ('logo', 'NN')]\n"
     ]
    }
   ],
   "source": [
    "print(nltk.ne_chunk(pos_tags, binary=True)[:20])"
   ]
  },
  {
   "cell_type": "markdown",
   "metadata": {},
   "source": [
    "# using spacy tool:NER"
   ]
  },
  {
   "cell_type": "code",
   "execution_count": 67,
   "metadata": {},
   "outputs": [
    {
     "name": "stdout",
     "output_type": "stream",
     "text": [
      "coronavirus india ORG\n",
      "india GPE\n",
      "karnataka TIME\n",
      "july DATE\n",
      "india GPE\n",
      "last hour TIME\n",
      "contenturl coronavirus PERSON\n",
      "india GPE\n",
      "india GPE\n",
      "india GPE\n",
      "coronavirus ORG\n",
      "india GPE\n",
      "india GPE\n",
      "india GPE\n",
      "india GPE\n",
      "india GPE\n",
      "india GPE\n",
      "karnataka PERSON\n",
      "india GPE\n",
      "india GPE\n",
      "maharashtra ORG\n",
      "india GPE\n",
      "india GPE\n",
      "maharashtra ORG\n",
      "india GPE\n",
      "india GPE\n",
      "maharashtra ORG\n",
      "india GPE\n",
      "india GPE\n",
      "maharashtra ORG\n",
      "today DATE\n",
      "india GPE\n",
      "india GPE\n",
      "haryana PERSON\n",
      "today DATE\n",
      "india GPE\n",
      "india GPE\n",
      "jammu kashmir LOC\n",
      "saturday DATE\n",
      "india GPE\n",
      "india GPE\n",
      "jammu kashmir LOC\n",
      "saturday DATE\n",
      "karnataka PERSON\n",
      "sunday DATE\n",
      "july DATE\n",
      "india GPE\n",
      "india GPE\n",
      "karnataka PERSON\n",
      "sunday DATE\n"
     ]
    }
   ],
   "source": [
    "import spacy\n",
    "nlp = spacy.load(\"en_core_web_sm\")\n",
    "doc = nlp(r)\n",
    "for X in doc.ents[:50]:\n",
    "    print(X.text, X.label_)"
   ]
  },
  {
   "cell_type": "code",
   "execution_count": 69,
   "metadata": {},
   "outputs": [
    {
     "name": "stdout",
     "output_type": "stream",
     "text": [
      "coronavirus B ORG\n",
      "india I ORG\n",
      "live O \n",
      "update O \n",
      "state O \n",
      "contributed O \n",
      "covid O \n",
      "caseload O \n",
      "death O \n",
      "say O \n",
      "health O \n",
      "ministry O \n",
      "context O \n",
      "type O \n",
      "organization O \n",
      "name O \n",
      "time O \n",
      "india B GPE\n",
      "url O \n",
      "logo O \n",
      "type O \n",
      "imageobject O \n",
      "url O \n",
      "width O \n",
      "height O \n",
      "context O \n",
      "live O \n",
      "update O \n",
      "total O \n",
      "lockdown O \n",
      "every O \n",
      "sunday O \n",
      "karnataka B TIME\n",
      "july B DATE\n",
      "description O \n",
      "coronavirus O \n",
      "update O \n",
      "india B GPE\n",
      "covid O \n",
      "tally O \n",
      "crossed O \n",
      "lakh O \n",
      "mark O \n",
      "yet O \n",
      "another O \n",
      "highest O \n",
      "single O \n",
      "day O \n",
      "spike O \n",
      "new O \n"
     ]
    }
   ],
   "source": [
    "#print([(X, X.ent_iob_, X.ent_type_) for X in doc])\n",
    "for X in doc[:50]:\n",
    "    print(X, X.ent_iob_, X.ent_type_)"
   ]
  },
  {
   "cell_type": "code",
   "execution_count": 70,
   "metadata": {},
   "outputs": [
    {
     "data": {
      "text/plain": [
       "182"
      ]
     },
     "execution_count": 70,
     "metadata": {},
     "output_type": "execute_result"
    }
   ],
   "source": [
    "#length of an entities\n",
    "len(doc.ents)"
   ]
  },
  {
   "cell_type": "code",
   "execution_count": 71,
   "metadata": {
    "scrolled": true
   },
   "outputs": [
    {
     "data": {
      "text/plain": [
       "Counter({'ORG': 19,\n",
       "         'GPE': 67,\n",
       "         'TIME': 3,\n",
       "         'DATE': 38,\n",
       "         'PERSON': 29,\n",
       "         'LOC': 4,\n",
       "         'NORP': 3,\n",
       "         'CARDINAL': 14,\n",
       "         'LAW': 1,\n",
       "         'ORDINAL': 2,\n",
       "         'WORK_OF_ART': 1,\n",
       "         'PRODUCT': 1})"
      ]
     },
     "execution_count": 71,
     "metadata": {},
     "output_type": "execute_result"
    }
   ],
   "source": [
    "from collections import Counter\n",
    "labels = [x.label_ for x in doc.ents]\n",
    "Counter(labels)"
   ]
  },
  {
   "cell_type": "code",
   "execution_count": 80,
   "metadata": {},
   "outputs": [
    {
     "data": {
      "text/html": [
       "<span class=\"tex2jax_ignore\"><div class=\"entities\" style=\"line-height: 2.5; direction: ltr\">\n",
       "<mark class=\"entity\" style=\"background: #7aecec; padding: 0.45em 0.6em; margin: 0 0.25em; line-height: 1; border-radius: 0.35em;\">\n",
       "    coronavirus india\n",
       "    <span style=\"font-size: 0.8em; font-weight: bold; line-height: 1; border-radius: 0.35em; text-transform: uppercase; vertical-align: middle; margin-left: 0.5rem\">ORG</span>\n",
       "</mark>\n",
       " live update state contributed covid caseload death say health ministry context type organization name time \n",
       "<mark class=\"entity\" style=\"background: #feca74; padding: 0.45em 0.6em; margin: 0 0.25em; line-height: 1; border-radius: 0.35em;\">\n",
       "    india\n",
       "    <span style=\"font-size: 0.8em; font-weight: bold; line-height: 1; border-radius: 0.35em; text-transform: uppercase; vertical-align: middle; margin-left: 0.5rem\">GPE</span>\n",
       "</mark>\n",
       " url logo type imageobject url width height context live update total lockdown every sunday \n",
       "<mark class=\"entity\" style=\"background: #bfe1d9; padding: 0.45em 0.6em; margin: 0 0.25em; line-height: 1; border-radius: 0.35em;\">\n",
       "    karnataka\n",
       "    <span style=\"font-size: 0.8em; font-weight: bold; line-height: 1; border-radius: 0.35em; text-transform: uppercase; vertical-align: middle; margin-left: 0.5rem\">TIME</span>\n",
       "</mark>\n",
       " \n",
       "<mark class=\"entity\" style=\"background: #bfe1d9; padding: 0.45em 0.6em; margin: 0 0.25em; line-height: 1; border-radius: 0.35em;\">\n",
       "    july\n",
       "    <span style=\"font-size: 0.8em; font-weight: bold; line-height: 1; border-radius: 0.35em; text-transform: uppercase; vertical-align: middle; margin-left: 0.5rem\">DATE</span>\n",
       "</mark>\n",
       " description coronavirus update \n",
       "<mark class=\"entity\" style=\"background: #feca74; padding: 0.45em 0.6em; margin: 0 0.25em; line-height: 1; border-radius: 0.35em;\">\n",
       "    india\n",
       "    <span style=\"font-size: 0.8em; font-weight: bold; line-height: 1; border-radius: 0.35em; text-transform: uppercase; vertical-align: middle; margin-left: 0.5rem\">GPE</span>\n",
       "</mark>\n",
       " covid tally crossed lakh mark yet another highest single day spike new case country recorded fatality \n",
       "<mark class=\"entity\" style=\"background: #bfe1d9; padding: 0.45em 0.6em; margin: 0 0.25em; line-height: 1; border-radius: 0.35em;\">\n",
       "    last hour\n",
       "    <span style=\"font-size: 0.8em; font-weight: bold; line-height: 1; border-radius: 0.35em; text-transform: uppercase; vertical-align: middle; margin-left: 0.5rem\">TIME</span>\n",
       "</mark>\n",
       " taking nationwide toll image type imageobject \n",
       "<mark class=\"entity\" style=\"background: #aa9cfc; padding: 0.45em 0.6em; margin: 0 0.25em; line-height: 1; border-radius: 0.35em;\">\n",
       "    contenturl coronavirus\n",
       "    <span style=\"font-size: 0.8em; font-weight: bold; line-height: 1; border-radius: 0.35em; text-transform: uppercase; vertical-align: middle; margin-left: 0.5rem\">PERSON</span>\n",
       "</mark>\n",
       " \n",
       "<mark class=\"entity\" style=\"background: #feca74; padding: 0.45em 0.6em; margin: 0 0.25em; line-height: 1; border-radius: 0.35em;\">\n",
       "    india\n",
       "    <span style=\"font-size: 0.8em; font-weight: bold; line-height: 1; border-radius: 0.35em; text-transform: uppercase; vertical-align: middle; margin-left: 0.5rem\">GPE</span>\n",
       "</mark>\n",
       " coronavirus \n",
       "<mark class=\"entity\" style=\"background: #feca74; padding: 0.45em 0.6em; margin: 0 0.25em; line-height: 1; border-radius: 0.35em;\">\n",
       "    india\n",
       "    <span style=\"font-size: 0.8em; font-weight: bold; line-height: 1; border-radius: 0.35em; text-transform: uppercase; vertical-align: middle; margin-left: 0.5rem\">GPE</span>\n",
       "</mark>\n",
       " covid \n",
       "<mark class=\"entity\" style=\"background: #feca74; padding: 0.45em 0.6em; margin: 0 0.25em; line-height: 1; border-radius: 0.35em;\">\n",
       "    india\n",
       "    <span style=\"font-size: 0.8em; font-weight: bold; line-height: 1; border-radius: 0.35em; text-transform: uppercase; vertical-align: middle; margin-left: 0.5rem\">GPE</span>\n",
       "</mark>\n",
       " coronavirus case \n",
       "<mark class=\"entity\" style=\"background: #7aecec; padding: 0.45em 0.6em; margin: 0 0.25em; line-height: 1; border-radius: 0.35em;\">\n",
       "    coronavirus\n",
       "    <span style=\"font-size: 0.8em; font-weight: bold; line-height: 1; border-radius: 0.35em; text-transform: uppercase; vertical-align: middle; margin-left: 0.5rem\">ORG</span>\n",
       "</mark>\n",
       " case \n",
       "<mark class=\"entity\" style=\"background: #feca74; padding: 0.45em 0.6em; margin: 0 0.25em; line-height: 1; border-radius: 0.35em;\">\n",
       "    india\n",
       "    <span style=\"font-size: 0.8em; font-weight: bold; line-height: 1; border-radius: 0.35em; text-transform: uppercase; vertical-align: middle; margin-left: 0.5rem\">GPE</span>\n",
       "</mark>\n",
       " \n",
       "<mark class=\"entity\" style=\"background: #feca74; padding: 0.45em 0.6em; margin: 0 0.25em; line-height: 1; border-radius: 0.35em;\">\n",
       "    india\n",
       "    <span style=\"font-size: 0.8em; font-weight: bold; line-height: 1; border-radius: 0.35em; text-transform: uppercase; vertical-align: middle; margin-left: 0.5rem\">GPE</span>\n",
       "</mark>\n",
       " covid news publisher type organization name time \n",
       "<mark class=\"entity\" style=\"background: #feca74; padding: 0.45em 0.6em; margin: 0 0.25em; line-height: 1; border-radius: 0.35em;\">\n",
       "    india\n",
       "    <span style=\"font-size: 0.8em; font-weight: bold; line-height: 1; border-radius: 0.35em; text-transform: uppercase; vertical-align: middle; margin-left: 0.5rem\">GPE</span>\n",
       "</mark>\n",
       " logo type imageobject url \n",
       "<mark class=\"entity\" style=\"background: #feca74; padding: 0.45em 0.6em; margin: 0 0.25em; line-height: 1; border-radius: 0.35em;\">\n",
       "    india\n",
       "    <span style=\"font-size: 0.8em; font-weight: bold; line-height: 1; border-radius: 0.35em; text-transform: uppercase; vertical-align: middle; margin-left: 0.5rem\">GPE</span>\n",
       "</mark>\n",
       " liveblogupdate type blogposting headline ist able control pandemic would need lockdown go url \n",
       "<mark class=\"entity\" style=\"background: #feca74; padding: 0.45em 0.6em; margin: 0 0.25em; line-height: 1; border-radius: 0.35em;\">\n",
       "    india\n",
       "    <span style=\"font-size: 0.8em; font-weight: bold; line-height: 1; border-radius: 0.35em; text-transform: uppercase; vertical-align: middle; margin-left: 0.5rem\">GPE</span>\n",
       "</mark>\n",
       " logo type imageobject url \n",
       "<mark class=\"entity\" style=\"background: #feca74; padding: 0.45em 0.6em; margin: 0 0.25em; line-height: 1; border-radius: 0.35em;\">\n",
       "    india\n",
       "    <span style=\"font-size: 0.8em; font-weight: bold; line-height: 1; border-radius: 0.35em; text-transform: uppercase; vertical-align: middle; margin-left: 0.5rem\">GPE</span>\n",
       "</mark>\n",
       " able control pandemic would need lockdown go type blogposting headline ist \n",
       "<mark class=\"entity\" style=\"background: #aa9cfc; padding: 0.45em 0.6em; margin: 0 0.25em; line-height: 1; border-radius: 0.35em;\">\n",
       "    karnataka\n",
       "    <span style=\"font-size: 0.8em; font-weight: bold; line-height: 1; border-radius: 0.35em; text-transform: uppercase; vertical-align: middle; margin-left: 0.5rem\">PERSON</span>\n",
       "</mark>\n",
       " government issue order directing private hospital deny treatment patie url \n",
       "<mark class=\"entity\" style=\"background: #feca74; padding: 0.45em 0.6em; margin: 0 0.25em; line-height: 1; border-radius: 0.35em;\">\n",
       "    india\n",
       "    <span style=\"font-size: 0.8em; font-weight: bold; line-height: 1; border-radius: 0.35em; text-transform: uppercase; vertical-align: middle; margin-left: 0.5rem\">GPE</span>\n",
       "</mark>\n",
       " logo type imageobject url \n",
       "<mark class=\"entity\" style=\"background: #feca74; padding: 0.45em 0.6em; margin: 0 0.25em; line-height: 1; border-radius: 0.35em;\">\n",
       "    india\n",
       "    <span style=\"font-size: 0.8em; font-weight: bold; line-height: 1; border-radius: 0.35em; text-transform: uppercase; vertical-align: middle; margin-left: 0.5rem\">GPE</span>\n",
       "</mark>\n",
       " government issue order directing private hospital deny treatment patie type blogposting headline ist people coming \n",
       "<mark class=\"entity\" style=\"background: #7aecec; padding: 0.45em 0.6em; margin: 0 0.25em; line-height: 1; border-radius: 0.35em;\">\n",
       "    maharashtra\n",
       "    <span style=\"font-size: 0.8em; font-weight: bold; line-height: 1; border-radius: 0.35em; text-transform: uppercase; vertical-align: middle; margin-left: 0.5rem\">ORG</span>\n",
       "</mark>\n",
       " placed day institutional quarantine followed url \n",
       "<mark class=\"entity\" style=\"background: #feca74; padding: 0.45em 0.6em; margin: 0 0.25em; line-height: 1; border-radius: 0.35em;\">\n",
       "    india\n",
       "    <span style=\"font-size: 0.8em; font-weight: bold; line-height: 1; border-radius: 0.35em; text-transform: uppercase; vertical-align: middle; margin-left: 0.5rem\">GPE</span>\n",
       "</mark>\n",
       " logo type imageobject url \n",
       "<mark class=\"entity\" style=\"background: #feca74; padding: 0.45em 0.6em; margin: 0 0.25em; line-height: 1; border-radius: 0.35em;\">\n",
       "    india\n",
       "    <span style=\"font-size: 0.8em; font-weight: bold; line-height: 1; border-radius: 0.35em; text-transform: uppercase; vertical-align: middle; margin-left: 0.5rem\">GPE</span>\n",
       "</mark>\n",
       " coming \n",
       "<mark class=\"entity\" style=\"background: #7aecec; padding: 0.45em 0.6em; margin: 0 0.25em; line-height: 1; border-radius: 0.35em;\">\n",
       "    maharashtra\n",
       "    <span style=\"font-size: 0.8em; font-weight: bold; line-height: 1; border-radius: 0.35em; text-transform: uppercase; vertical-align: middle; margin-left: 0.5rem\">ORG</span>\n",
       "</mark>\n",
       " placed day institutional quarantine followed type blogposting headline ist bravery award given policeman working frontline battle covid report url \n",
       "<mark class=\"entity\" style=\"background: #feca74; padding: 0.45em 0.6em; margin: 0 0.25em; line-height: 1; border-radius: 0.35em;\">\n",
       "    india\n",
       "    <span style=\"font-size: 0.8em; font-weight: bold; line-height: 1; border-radius: 0.35em; text-transform: uppercase; vertical-align: middle; margin-left: 0.5rem\">GPE</span>\n",
       "</mark>\n",
       " logo type imageobject url \n",
       "<mark class=\"entity\" style=\"background: #feca74; padding: 0.45em 0.6em; margin: 0 0.25em; line-height: 1; border-radius: 0.35em;\">\n",
       "    india\n",
       "    <span style=\"font-size: 0.8em; font-weight: bold; line-height: 1; border-radius: 0.35em; text-transform: uppercase; vertical-align: middle; margin-left: 0.5rem\">GPE</span>\n",
       "</mark>\n",
       " award given policeman working frontline battle covid report type blogposting </div></span>"
      ],
      "text/plain": [
       "<IPython.core.display.HTML object>"
      ]
     },
     "metadata": {},
     "output_type": "display_data"
    }
   ],
   "source": [
    "from spacy import displacy\n",
    "displacy.render(doc[:200], style='ent')"
   ]
  },
  {
   "attachments": {
    "Capture.PNG": {
     "image/png": "[encoded data removed]"
    }
   },
   "cell_type": "markdown",
   "metadata": {},
   "source": [
    "![Capture.PNG](attachment:Capture.PNG)"
   ]
  }
 ],
 "metadata": {
  "kernelspec": {
   "display_name": "Python 3",
   "language": "python",
   "name": "python3"
  },
  "language_info": {
   "codemirror_mode": {
    "name": "ipython",
    "version": 3
   },
   "file_extension": ".py",
   "mimetype": "text/x-python",
   "name": "python",
   "nbconvert_exporter": "python",
   "pygments_lexer": "ipython3",
   "version": "3.7.4"
  }
 },
 "nbformat": 4,
 "nbformat_minor": 2
}
