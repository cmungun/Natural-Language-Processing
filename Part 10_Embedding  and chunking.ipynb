{
 "cells": [
  {
   "cell_type": "markdown",
   "metadata": {},
   "source": [
    "# Word Embedding"
   ]
  },
  {
   "cell_type": "markdown",
   "metadata": {},
   "source": [
    "the collective name for a set of language modeling and feature learning techniques in natural language processing (NLP) where words or phrases from the vocabulary are mapped to vectors of real numbers.reliable word representation with real-number vector is the goal"
   ]
  },
  {
   "cell_type": "markdown",
   "metadata": {},
   "source": [
    "# 1.One-hot encoding (CountVectorizing)"
   ]
  },
  {
   "cell_type": "markdown",
   "metadata": {},
   "source": [
    "The most basic and naive method for transforming words into vectors is to count occurrence of each word in each document\n",
    "Such an approach is called countvectorizing or one-hot encoding."
   ]
  },
  {
   "cell_type": "code",
   "execution_count": 2,
   "metadata": {},
   "outputs": [],
   "source": [
    "#VECTORISERS TO CONVERT WORDS INTO NUMBERSf\n",
    "from sklearn.feature_extraction.text import CountVectorizer"
   ]
  },
  {
   "cell_type": "code",
   "execution_count": 4,
   "metadata": {},
   "outputs": [
    {
     "data": {
      "text/plain": [
       "<4x13 sparse matrix of type '<class 'numpy.int64'>'\n",
       "\twith 17 stored elements in Compressed Sparse Row format>"
      ]
     },
     "execution_count": 4,
     "metadata": {},
     "output_type": "execute_result"
    }
   ],
   "source": [
    "#vectorizer object created\n",
    "vectorizer = CountVectorizer()\n",
    "Corpus = [\n",
    "          'Text of first document.',\n",
    "          'Text of the second document made longer.',\n",
    "          'Number three.',\n",
    "          'This is number four.'\n",
    "]\n",
    "# It will do some indexing to uniqe words in given text\n",
    "X = vectorizer.fit_transform(Corpus)\n",
    "X"
   ]
  },
  {
   "cell_type": "code",
   "execution_count": 5,
   "metadata": {},
   "outputs": [
    {
     "data": {
      "text/plain": [
       "True"
      ]
     },
     "execution_count": 5,
     "metadata": {},
     "output_type": "execute_result"
    }
   ],
   "source": [
    "vectorizer.get_feature_names() == (\n",
    "    ['document', 'first', 'four', 'is', 'longer',\n",
    "     'made', 'number', 'of', 'second', 'text',\n",
    "     'the', 'this', 'three'])"
   ]
  },
  {
   "cell_type": "code",
   "execution_count": 6,
   "metadata": {},
   "outputs": [
    {
     "data": {
      "text/plain": [
       "array([[1, 1, 0, 0, 0, 0, 0, 1, 0, 1, 0, 0, 0],\n",
       "       [1, 0, 0, 0, 1, 1, 0, 1, 1, 1, 1, 0, 0],\n",
       "       [0, 0, 0, 0, 0, 0, 1, 0, 0, 0, 0, 0, 1],\n",
       "       [0, 0, 1, 1, 0, 0, 1, 0, 0, 0, 0, 1, 0]], dtype=int64)"
      ]
     },
     "execution_count": 6,
     "metadata": {},
     "output_type": "execute_result"
    }
   ],
   "source": [
    "# retrieving the matrix in the numpy form\n",
    "X.toarray()"
   ]
  },
  {
   "cell_type": "code",
   "execution_count": 7,
   "metadata": {},
   "outputs": [
    {
     "data": {
      "text/plain": [
       "array([[1, 0, 0, 0, 0, 0, 0, 0, 0, 0, 0, 0, 0]], dtype=int64)"
      ]
     },
     "execution_count": 7,
     "metadata": {},
     "output_type": "execute_result"
    }
   ],
   "source": [
    "# transforming a new document according to learn vocabulary\n",
    "vectorizer.transform(['A new document.']).toarray()"
   ]
  },
  {
   "cell_type": "markdown",
   "metadata": {},
   "source": [
    "# 2.TF-IDF transforming"
   ]
  },
  {
   "cell_type": "markdown",
   "metadata": {},
   "source": [
    "weighting by exploitation of useful statistical measure called tf-idf."
   ]
  },
  {
   "cell_type": "markdown",
   "metadata": {},
   "source": [
    "IDF =Log[(# Number of documents) / (Number of documents containing the word)]     \n",
    "TF = (Number of repetitions of word in a document) / (# of words in a document)"
   ]
  },
  {
   "cell_type": "code",
   "execution_count": 8,
   "metadata": {},
   "outputs": [],
   "source": [
    "from sklearn.feature_extraction.text import TfidfVectorizer\n",
    "# Intializing TFIDFVectorizer\n",
    "vectorizer = TfidfVectorizer()"
   ]
  },
  {
   "cell_type": "code",
   "execution_count": 9,
   "metadata": {},
   "outputs": [
    {
     "name": "stdout",
     "output_type": "stream",
     "text": [
      "['document', 'first', 'four', 'is', 'longer', 'made', 'number', 'of', 'second', 'text', 'the', 'this', 'three']\n"
     ]
    }
   ],
   "source": [
    "# learn the vocabulary and store tf-idf sparse matrix in tfidf\n",
    "tfidf = vectorizer.fit_transform(Corpus)\n",
    "# Getting feature names of final words that we will use to tag documents\n",
    "print(vectorizer.get_feature_names())"
   ]
  },
  {
   "cell_type": "code",
   "execution_count": 10,
   "metadata": {},
   "outputs": [
    {
     "data": {
      "text/plain": [
       "array([[0.46580855, 0.59081908, 0.        , 0.        , 0.        ,\n",
       "        0.        , 0.        , 0.46580855, 0.        , 0.46580855,\n",
       "        0.        , 0.        , 0.        ],\n",
       "       [0.32555709, 0.        , 0.        , 0.        , 0.41292788,\n",
       "        0.41292788, 0.        , 0.32555709, 0.41292788, 0.32555709,\n",
       "        0.41292788, 0.        , 0.        ],\n",
       "       [0.        , 0.        , 0.        , 0.        , 0.        ,\n",
       "        0.        , 0.6191303 , 0.        , 0.        , 0.        ,\n",
       "        0.        , 0.        , 0.78528828],\n",
       "       [0.        , 0.        , 0.52547275, 0.52547275, 0.        ,\n",
       "        0.        , 0.41428875, 0.        , 0.        , 0.        ,\n",
       "        0.        , 0.52547275, 0.        ]])"
      ]
     },
     "execution_count": 10,
     "metadata": {},
     "output_type": "execute_result"
    }
   ],
   "source": [
    "# retrieving matrix in numpy form\n",
    "tfidf.toarray()"
   ]
  },
  {
   "cell_type": "markdown",
   "metadata": {},
   "source": [
    "# Chunking"
   ]
  },
  {
   "cell_type": "markdown",
   "metadata": {},
   "source": [
    "group words into hopefully meaningful chunks. One of the main goals of chunking is to group into what are known as \"noun phrases.\" These are phrases of one or more words that contain a noun, maybe some descriptive words, maybe a verb, and maybe something like an adverb. The idea is to group nouns with the words that are in relation to them."
   ]
  },
  {
   "cell_type": "code",
   "execution_count": 11,
   "metadata": {},
   "outputs": [],
   "source": [
    "#import package\n",
    "import nltk\n",
    "para1 = \"\"\"Letter of Recommendation (LOR) and Statement of Purpose (SOP) are among the four parameters for selection for GRE/GMAT, the other two being Academic records and Scores in the entrance test. SOP and LOR are also needed by those who wish to do an MBA in India through CAT. Both the documents carry a lot of weightage as far as the admission criteria is concerned.\n",
    "LOR is to be written by 2 professors (for a candidate who is not employed) and by a professor and employer/superior (in case of working professionals). The persons writing this are to make an assessment of the candidate’s intellectual, academic, professional, leadership and other qualities besides assessing the potential of the candidate to do well in the program he is applying to. \"\"\""
   ]
  },
  {
   "cell_type": "markdown",
   "metadata": {},
   "source": [
    "# Tokenization"
   ]
  },
  {
   "cell_type": "code",
   "execution_count": 12,
   "metadata": {},
   "outputs": [],
   "source": [
    "#tokens\n",
    "tokens1 = nltk.word_tokenize(para1)"
   ]
  },
  {
   "cell_type": "code",
   "execution_count": 13,
   "metadata": {},
   "outputs": [
    {
     "name": "stdout",
     "output_type": "stream",
     "text": [
      "['Letter', 'of', 'Recommendation', '(', 'LOR', ')', 'and', 'Statement', 'of', 'Purpose', '(', 'SOP', ')', 'are', 'among', 'the', 'four', 'parameters', 'for', 'selection', 'for', 'GRE/GMAT', ',', 'the', 'other', 'two', 'being', 'Academic', 'records', 'and', 'Scores', 'in', 'the', 'entrance', 'test', '.', 'SOP', 'and', 'LOR', 'are', 'also', 'needed', 'by', 'those', 'who', 'wish', 'to', 'do', 'an', 'MBA', 'in', 'India', 'through', 'CAT', '.', 'Both', 'the', 'documents', 'carry', 'a', 'lot', 'of', 'weightage', 'as', 'far', 'as', 'the', 'admission', 'criteria', 'is', 'concerned', '.', 'LOR', 'is', 'to', 'be', 'written', 'by', '2', 'professors', '(', 'for', 'a', 'candidate', 'who', 'is', 'not', 'employed', ')', 'and', 'by', 'a', 'professor', 'and', 'employer/superior', '(', 'in', 'case', 'of', 'working']\n"
     ]
    }
   ],
   "source": [
    "print(tokens1[:100])"
   ]
  },
  {
   "cell_type": "markdown",
   "metadata": {},
   "source": [
    "# POS tagging"
   ]
  },
  {
   "cell_type": "code",
   "execution_count": 14,
   "metadata": {},
   "outputs": [],
   "source": [
    "#tagging\n",
    "pos_tagggs1 = nltk.pos_tag(tokens1)"
   ]
  },
  {
   "cell_type": "code",
   "execution_count": 15,
   "metadata": {},
   "outputs": [
    {
     "name": "stdout",
     "output_type": "stream",
     "text": [
      "[('Letter', 'NN'), ('of', 'IN'), ('Recommendation', 'NNP'), ('(', '('), ('LOR', 'NNP'), (')', ')'), ('and', 'CC'), ('Statement', 'NNP'), ('of', 'IN'), ('Purpose', 'NNP'), ('(', '('), ('SOP', 'NNP'), (')', ')'), ('are', 'VBP'), ('among', 'IN'), ('the', 'DT'), ('four', 'CD'), ('parameters', 'NNS'), ('for', 'IN'), ('selection', 'NN'), ('for', 'IN'), ('GRE/GMAT', 'NNP'), (',', ','), ('the', 'DT'), ('other', 'JJ'), ('two', 'CD'), ('being', 'VBG'), ('Academic', 'NNP'), ('records', 'NNS'), ('and', 'CC'), ('Scores', 'NNS'), ('in', 'IN'), ('the', 'DT'), ('entrance', 'NN'), ('test', 'NN'), ('.', '.'), ('SOP', 'NNP'), ('and', 'CC'), ('LOR', 'NNP'), ('are', 'VBP'), ('also', 'RB'), ('needed', 'VBN'), ('by', 'IN'), ('those', 'DT'), ('who', 'WP'), ('wish', 'VBP'), ('to', 'TO'), ('do', 'VB'), ('an', 'DT'), ('MBA', 'NNP'), ('in', 'IN'), ('India', 'NNP'), ('through', 'IN'), ('CAT', 'NNP'), ('.', '.'), ('Both', 'CC'), ('the', 'DT'), ('documents', 'NNS'), ('carry', 'VBP'), ('a', 'DT'), ('lot', 'NN'), ('of', 'IN'), ('weightage', 'NN'), ('as', 'RB'), ('far', 'RB'), ('as', 'IN'), ('the', 'DT'), ('admission', 'NN'), ('criteria', 'NN'), ('is', 'VBZ'), ('concerned', 'VBN'), ('.', '.'), ('LOR', 'NNP'), ('is', 'VBZ'), ('to', 'TO'), ('be', 'VB'), ('written', 'VBN'), ('by', 'IN'), ('2', 'CD'), ('professors', 'NNS'), ('(', '('), ('for', 'IN'), ('a', 'DT'), ('candidate', 'NN'), ('who', 'WP'), ('is', 'VBZ'), ('not', 'RB'), ('employed', 'VBN'), (')', ')'), ('and', 'CC'), ('by', 'IN'), ('a', 'DT'), ('professor', 'NN'), ('and', 'CC'), ('employer/superior', 'NN'), ('(', '('), ('in', 'IN'), ('case', 'NN'), ('of', 'IN'), ('working', 'VBG')]\n"
     ]
    }
   ],
   "source": [
    "#print taggs\n",
    "print(pos_tagggs1[:100])"
   ]
  },
  {
   "cell_type": "markdown",
   "metadata": {},
   "source": [
    "# Chunking"
   ]
  },
  {
   "cell_type": "code",
   "execution_count": 16,
   "metadata": {},
   "outputs": [],
   "source": [
    "#Define Chunk Rule\n",
    "grammar = \"NP: {<DT>?<JJ>*<NN>}\"\n",
    "#Using above defined grammer, created chunk parser\n",
    "cp = nltk.RegexpParser(grammar)\n",
    "#apply parser on pos tags\n",
    "result1 = cp.parse(pos_tagggs1)"
   ]
  },
  {
   "cell_type": "code",
   "execution_count": 17,
   "metadata": {},
   "outputs": [
    {
     "name": "stdout",
     "output_type": "stream",
     "text": [
      "[Tree('NP', [('Letter', 'NN')]), ('of', 'IN'), ('Recommendation', 'NNP'), ('(', '('), ('LOR', 'NNP'), (')', ')'), ('and', 'CC'), ('Statement', 'NNP'), ('of', 'IN'), ('Purpose', 'NNP')]\n"
     ]
    }
   ],
   "source": [
    "print(result1[:10])"
   ]
  },
  {
   "cell_type": "code",
   "execution_count": 18,
   "metadata": {},
   "outputs": [],
   "source": [
    "# draw the tree\n",
    "result1.draw()"
   ]
  },
  {
   "attachments": {
    "tree.PNG": {
     "image/png": "[encoded data removed]"
    }
   },
   "cell_type": "markdown",
   "metadata": {},
   "source": [
    "![tree.PNG](attachment:tree.PNG)"
   ]
  }
 ],
 "metadata": {
  "kernelspec": {
   "display_name": "Python 3",
   "language": "python",
   "name": "python3"
  },
  "language_info": {
   "codemirror_mode": {
    "name": "ipython",
    "version": 3
   },
   "file_extension": ".py",
   "mimetype": "text/x-python",
   "name": "python",
   "nbconvert_exporter": "python",
   "pygments_lexer": "ipython3",
   "version": "3.7.4"
  }
 },
 "nbformat": 4,
 "nbformat_minor": 2
}
