{
 "cells": [
  {
   "cell_type": "markdown",
   "metadata": {},
   "source": [
    "# Task 1: Import and Access Marathi Language\n"
   ]
  },
  {
   "cell_type": "code",
   "execution_count": 37,
   "metadata": {},
   "outputs": [
    {
     "data": {
      "text/plain": [
       "['bangla.pos', 'hindi.pos', 'marathi.pos', 'telugu.pos']"
      ]
     },
     "execution_count": 37,
     "metadata": {},
     "output_type": "execute_result"
    }
   ],
   "source": [
    "#nltk also contains indian languages and printing indian languages from nltk\n",
    "import nltk\n",
    "nltk.corpus.indian.fileids()\n",
    "#the files of the corpus"
   ]
  },
  {
   "cell_type": "markdown",
   "metadata": {},
   "source": [
    "# Task 2: Words From Speciefied File "
   ]
  },
  {
   "cell_type": "code",
   "execution_count": 38,
   "metadata": {},
   "outputs": [
    {
     "data": {
      "text/plain": [
       "[\"''\", 'सनातनवाद्यांनी', 'व', 'प्रतिगाम्यांनी', 'समाज', ...]"
      ]
     },
     "execution_count": 38,
     "metadata": {},
     "output_type": "execute_result"
    }
   ],
   "source": [
    "#the file of the corpus---->marathi.pos----->listed in words\n",
    "text_Marathi = nltk.corpus.indian.words('marathi.pos')\n",
    "text_Marathi"
   ]
  },
  {
   "cell_type": "markdown",
   "metadata": {},
   "source": [
    "# Task 3: Print Content of the File"
   ]
  },
  {
   "cell_type": "code",
   "execution_count": 39,
   "metadata": {},
   "outputs": [
    {
     "name": "stdout",
     "output_type": "stream",
     "text": [
      "असे प्रतिपादन नटसम्राट प्रभाकर पणशीकर यांनी केले . दर्पणकार बाळशास्त्री जांभेकर यांच्या १९५व्या जयंतीनिमित्त महाराष्ट्र संपादक परिषद व सिंधुदुर्ग जिल्हा मराठी पत्रकार संघाच्या वतीने तसेच महाराष्ट्र जर्नलिस्ट फाउंडेशन व महाराष्ट्र ग्रामीण पत्रकार संघाच्या सहभागाने अभिवादन कार्यक्रम आयोजित केला होता . महाराष्ट्र संपादक परिषदेचे कार्याध्यक्ष यशवंत पाध्ये , जिल्हा पत्रकार संघाचे अध्यक्ष शशी सावंत यावेळी उपस्थित होते . श्री. पणशीकर म्हणाले , '' नव्या ज्ञानाचा व पाश्‍चात्य विद्यांचा परिचय व्हावा व नवसमाज निर्मितीच्या विचारातून देशाची समृद्धी , जनकल्याण साधावे या विचारातून जांभेकर यांनी 'दर्पण'च्या माध्यमातून सातत्याने प्रयत्न केले . आजचे वर्तमान उद्याचा इतिहास आहे . दर्पणकारांचे पोंभुर्ले येथे स्मारक उभारून यशवंत पाध्ये यांनी सामाजिक दायित्व सिद्ध केले आहे . '' महाराष्ट्र संपादक परिषदेतर्फे श्री. पणशीकर , शशी सावंत , वामन काळे , संतोष वायंगणकर , दिलीप हिंदळेकर , राजीव लोहार , मधुसूदन नानिवडेकर , सुधाकर जांभेकर यांचा सत्कार झाला . भारतीय जनता पक्षातर्फे जिल्हा परिषदेच्या पंचवीस आणि पंचायत समितीच्या चाळीस जागा लढवायचा निर्णय आज झाला . ग्रामीण जिल्हाध्यक्ष बाळासाहेब भोसले यांच्या अध्यक्षतेखाली पक्षाची आज बैठक झाली . त्यात हा निर्णय घेण्यात आला . इच्छुक उमेदवारांच्या मुलाखतीदेखील या वेळी घेण्यात आल्या . "
     ]
    }
   ],
   "source": [
    "#printing text\n",
    "for line in text_Marathi[20:200]:\n",
    "    # print function to put its output on a single line\n",
    "    print(line, sep=' ',end= ' ') "
   ]
  },
  {
   "cell_type": "markdown",
   "metadata": {},
   "source": [
    "# Task 4: Sentence startswith() Specified Word"
   ]
  },
  {
   "cell_type": "code",
   "execution_count": 40,
   "metadata": {},
   "outputs": [
    {
     "data": {
      "text/plain": [
       "FreqDist({False: 19039, True: 27})"
      ]
     },
     "execution_count": 40,
     "metadata": {},
     "output_type": "execute_result"
    }
   ],
   "source": [
    "#print frequency of sentences that start with 'this' using startswith() function\n",
    "fdist = nltk.FreqDist(w.startswith('त्यात') for w in text_Marathi)\n",
    "#print frequencies\n",
    "fdist"
   ]
  },
  {
   "cell_type": "code",
   "execution_count": null,
   "metadata": {},
   "outputs": [],
   "source": []
  },
  {
   "cell_type": "markdown",
   "metadata": {},
   "source": [
    "# Task 5:  Tokenization"
   ]
  },
  {
   "cell_type": "code",
   "execution_count": 41,
   "metadata": {},
   "outputs": [],
   "source": [
    "Mar = \"\"\"असे प्रतिपादन नटसम्राट प्रभाकर पणशीकर यांनी केले . दर्पणकार बाळशास्त्री जांभेकर यांच्या १९५व्या जयंतीनिमित्त महाराष्ट्र संपादक परिषद व सिंधुदुर्ग\n",
    "जिल्हा मराठी पत्रकार संघाच्या वतीने तसेच महाराष्ट्र जर्नलिस्ट फाउंडेशन व महाराष्ट्र ग्रामीण पत्रकार संघाच्या सहभागाने अभिवादन कार्यक्रम आयोजित केला होता . \n",
    "महाराष्ट्र संपादक परिषदेचे कार्याध्यक्ष यशवंत पाध्ये , जिल्हा पत्रकार संघाचे अध्यक्ष शशी सावंत यावेळी उपस्थित होते . श्री. पणशीकर म्हणाले , '' नव्या ज्ञानाचा\n",
    "व पाश्‍चात्य विद्यांचा परिचय व्हावा व नवसमाज निर्मितीच्या विचारातून देशाची समृद्धी , जनकल्याण साधावे या विचारातून जांभेकर यांनी 'दर्पण'च्या माध्यमातून\n",
    "सातत्याने प्रयत्न केले . आजचे वर्तमान उद्याचा इतिहास आहे . दर्पणकारांचे पोंभुर्ले येथे स्मारक उभारून यशवंत पाध्ये यांनी सामाजिक दायित्व सिद्ध केले आहे .\n",
    "'' महाराष्ट्र संपादक परिषदेतर्फे श्री. पणशीकर , शशी सावंत , वामन काळे , संतोष वायंगणकर , दिलीप हिंदळेकर , राजीव लोहार , मधुसूदन नानिवडेकर \n",
    ", सुधाकर जांभेकर यांचा सत्कार झाला . भारतीय जनता पक्षातर्फे जिल्हा परिषदेच्या पंचवीस आणि पंचायत समितीच्या चाळीस जागा लढवायचा निर्णय आज झाला\n",
    ". ग्रामीण जिल्हाध्यक्ष बाळासाहेब भोसले यांच्या अध्यक्षतेखाली पक्षाची आज बैठक झाली . त्यात हा निर्णय घेण्यात आला . \n",
    "इच्छुक उमेदवारांच्या मुलाखतीदेखील या वेळी घेण्यात आल्या . \"\"\""
   ]
  },
  {
   "cell_type": "markdown",
   "metadata": {},
   "source": [
    "# Task 6: Read Words"
   ]
  },
  {
   "cell_type": "code",
   "execution_count": 42,
   "metadata": {},
   "outputs": [
    {
     "name": "stdout",
     "output_type": "stream",
     "text": [
      "['असे', 'प्रतिपादन', 'नटसम्राट', 'प्रभाकर', 'पणशीकर', 'यांनी', 'केले', '.', 'दर्पणकार', 'बाळशास्त्री', 'जांभेकर', 'यांच्या', '१९५व्या', 'जयंतीनिमित्त', 'महाराष्ट्र', 'संपादक', 'परिषद', 'व', 'सिंधुदुर्ग', 'जिल्हा', 'मराठी', 'पत्रकार', 'संघाच्या', 'वतीने', 'तसेच', 'महाराष्ट्र', 'जर्नलिस्ट', 'फाउंडेशन', 'व', 'महाराष्ट्र', 'ग्रामीण', 'पत्रकार', 'संघाच्या', 'सहभागाने', 'अभिवादन', 'कार्यक्रम', 'आयोजित', 'केला', 'होता', '.', 'महाराष्ट्र', 'संपादक', 'परिषदेचे', 'कार्याध्यक्ष', 'यशवंत', 'पाध्ये', ',', 'जिल्हा', 'पत्रकार', 'संघाचे', 'अध्यक्ष', 'शशी', 'सावंत', 'यावेळी', 'उपस्थित', 'होते', '.', 'श्री', '.', 'पणशीकर', 'म्हणाले', ',', '``', 'नव्या', 'ज्ञानाचा', 'व', 'पाश्\\u200dचात्य', 'विद्यांचा', 'परिचय', 'व्हावा', 'व', 'नवसमाज', 'निर्मितीच्या', 'विचारातून', 'देशाची', 'समृद्धी', ',', 'जनकल्याण', 'साधावे', 'या', 'विचारातून', 'जांभेकर', 'यांनी', \"'दर्पण\", \"'\", 'च्या', 'माध्यमातून', 'सातत्याने', 'प्रयत्न', 'केले', '.', 'आजचे', 'वर्तमान', 'उद्याचा', 'इतिहास', 'आहे', '.', 'दर्पणकारांचे', 'पोंभुर्ले', 'येथे', 'स्मारक', 'उभारून', 'यशवंत', 'पाध्ये', 'यांनी', 'सामाजिक', 'दायित्व', 'सिद्ध', 'केले', 'आहे', '.', \"''\", 'महाराष्ट्र', 'संपादक', 'परिषदेतर्फे', 'श्री', '.', 'पणशीकर', ',', 'शशी', 'सावंत', ',', 'वामन', 'काळे', ',', 'संतोष', 'वायंगणकर', ',', 'दिलीप', 'हिंदळेकर', ',', 'राजीव', 'लोहार', ',', 'मधुसूदन', 'नानिवडेकर', ',', 'सुधाकर', 'जांभेकर', 'यांचा', 'सत्कार', 'झाला', '.', 'भारतीय', 'जनता', 'पक्षातर्फे', 'जिल्हा', 'परिषदेच्या', 'पंचवीस', 'आणि', 'पंचायत', 'समितीच्या', 'चाळीस', 'जागा', 'लढवायचा', 'निर्णय', 'आज', 'झाला', '.', 'ग्रामीण', 'जिल्हाध्यक्ष', 'बाळासाहेब', 'भोसले', 'यांच्या', 'अध्यक्षतेखाली', 'पक्षाची', 'आज', 'बैठक', 'झाली', '.', 'त्यात', 'हा', 'निर्णय', 'घेण्यात', 'आला', '.', 'इच्छुक', 'उमेदवारांच्या', 'मुलाखतीदेखील', 'या', 'वेळी', 'घेण्यात', 'आल्या', '.']\n"
     ]
    }
   ],
   "source": [
    "# Import library word_tokenizer from nltk\n",
    "from nltk.tokenize import word_tokenize\n",
    "#word_tokenize function with parameter Marathi\n",
    "Marathi_token = word_tokenize(Mar)\n",
    "#Marathi_tokens\n",
    "print(Marathi_token)"
   ]
  },
  {
   "cell_type": "code",
   "execution_count": 43,
   "metadata": {},
   "outputs": [],
   "source": [
    "#part of speech tagger\n",
    "from nltk.tag import tnt\n",
    "#Trigrams'n'Tags, is a very efficient statistical part-of-speech tagger \n",
    "#that is trainable on different languages. \n",
    "from nltk.corpus import indian\n",
    "Mar1 = indian.tagged_sents('marathi.pos')\n",
    "#object creation\n",
    "tnt_pos_tagger = tnt.TnT()\n",
    "#train the text\n",
    "tnt_pos_tagger.train(Mar1)"
   ]
  },
  {
   "cell_type": "code",
   "execution_count": 44,
   "metadata": {},
   "outputs": [
    {
     "name": "stdout",
     "output_type": "stream",
     "text": [
      "[('असे', 'PRP'), ('प्रतिपादन', 'NN'), ('नटसम्राट', 'NNPC'), ('प्रभाकर', 'NNPC'), ('पणशीकर', 'NNP'), ('यांनी', 'PRP'), ('केले', 'VM'), ('.', 'SYM'), ('दर्पणकार', 'JJ'), ('बाळशास्त्री', 'NNPC'), ('जांभेकर', 'NNP'), ('यांच्या', 'PRP'), ('१९५व्या', 'QC'), ('जयंतीनिमित्त', 'NN'), ('महाराष्ट्र', 'NNPC'), ('संपादक', 'NNPC'), ('परिषद', 'NNP'), ('व', 'CC'), ('सिंधुदुर्ग', 'NNPC'), ('जिल्हा', 'NNPC'), ('मराठी', 'NNPC'), ('पत्रकार', 'NNPC'), ('संघाच्या', 'NNP'), ('वतीने', 'NN'), ('तसेच', 'CC'), ('महाराष्ट्र', 'NNPC'), ('जर्नलिस्ट', 'NNPC'), ('फाउंडेशन', 'NNP'), ('व', 'CC'), ('महाराष्ट्र', 'NNPC'), ('ग्रामीण', 'NNPC'), ('पत्रकार', 'NNPC'), ('संघाच्या', 'NNP'), ('सहभागाने', 'NN'), ('अभिवादन', 'NN'), ('कार्यक्रम', 'NN'), ('आयोजित', 'JJ'), ('केला', 'VM'), ('होता', 'VAUX'), ('.', 'SYM'), ('महाराष्ट्र', 'NNPC'), ('संपादक', 'NNPC'), ('परिषदेचे', 'NNP'), ('कार्याध्यक्ष', 'NN'), ('यशवंत', 'NNPC'), ('पाध्ये', 'NNP'), (',', 'SYM'), ('जिल्हा', 'NNPC'), ('पत्रकार', 'NNPC'), ('संघाचे', 'NNP')]\n"
     ]
    }
   ],
   "source": [
    "#nltk provides the functionality of word tokenizer, tagged using tnt() for Marathi Language\n",
    "tagged_words = (tnt_pos_tagger.tag(nltk.word_tokenize(Mar)))\n",
    "print(tagged_words[:50])"
   ]
  },
  {
   "cell_type": "markdown",
   "metadata": {},
   "source": [
    "# Task 7: Total Tokens"
   ]
  },
  {
   "cell_type": "code",
   "execution_count": 45,
   "metadata": {},
   "outputs": [
    {
     "data": {
      "text/plain": [
       "184"
      ]
     },
     "execution_count": 45,
     "metadata": {},
     "output_type": "execute_result"
    }
   ],
   "source": [
    "#length of all tokens\n",
    "len(Marathi_token)"
   ]
  },
  {
   "cell_type": "markdown",
   "metadata": {},
   "source": [
    "# Task 8: Frequency of All Words"
   ]
  },
  {
   "cell_type": "code",
   "execution_count": 46,
   "metadata": {
    "scrolled": true
   },
   "outputs": [
    {
     "data": {
      "text/plain": [
       "FreqDist({False: 19039, True: 27, '.': 13, ',': 10, 'महाराष्ट्र': 5, 'व': 4, 'पणशीकर': 3, 'यांनी': 3, 'केले': 3, 'जांभेकर': 3, ...})"
      ]
     },
     "execution_count": 46,
     "metadata": {},
     "output_type": "execute_result"
    }
   ],
   "source": [
    "#nltk package supports frequency distribution\n",
    "from nltk.probability import FreqDist\n",
    "#text is splitted into words and count the frequency of each word\n",
    "for words in Marathi_token:\n",
    "    fdist[words.lower()]+=1\n",
    "#printing frequencu of word\n",
    "fdist"
   ]
  },
  {
   "cell_type": "markdown",
   "metadata": {},
   "source": [
    "# Task 9: Frequency of Most Common Words"
   ]
  },
  {
   "cell_type": "code",
   "execution_count": 47,
   "metadata": {
    "scrolled": true
   },
   "outputs": [
    {
     "data": {
      "text/plain": [
       "[(False, 19039),\n",
       " (True, 27),\n",
       " ('.', 13),\n",
       " (',', 10),\n",
       " ('महाराष्ट्र', 5),\n",
       " ('व', 4),\n",
       " ('पणशीकर', 3),\n",
       " ('यांनी', 3),\n",
       " ('केले', 3)]"
      ]
     },
     "execution_count": 47,
     "metadata": {},
     "output_type": "execute_result"
    }
   ],
   "source": [
    "#printing most common words using most_common class\n",
    "fdist_high_freq = fdist.most_common(9)\n",
    "fdist_high_freq"
   ]
  },
  {
   "cell_type": "markdown",
   "metadata": {},
   "source": [
    "# Task 10: Part-of-Speech tagging"
   ]
  },
  {
   "cell_type": "code",
   "execution_count": 48,
   "metadata": {},
   "outputs": [],
   "source": [
    "#part of speech tagger\n",
    "from nltk.tag import tnt\n",
    "#Trigrams'n'Tags, is a very efficient statistical part-of-speech tagger \n",
    "#that is trainable on different languages. \n",
    "from nltk.corpus import indian\n",
    "Mar1 = indian.tagged_sents('marathi.pos')\n",
    "#object creation\n",
    "tnt_pos_tagger = tnt.TnT()\n",
    "#train the text\n",
    "tnt_pos_tagger.train(Mar1)"
   ]
  },
  {
   "cell_type": "code",
   "execution_count": 49,
   "metadata": {},
   "outputs": [
    {
     "name": "stdout",
     "output_type": "stream",
     "text": [
      "[('असे', 'PRP'), ('प्रतिपादन', 'NN'), ('नटसम्राट', 'NNPC'), ('प्रभाकर', 'NNPC'), ('पणशीकर', 'NNP'), ('यांनी', 'PRP'), ('केले', 'VM'), ('.', 'SYM'), ('दर्पणकार', 'JJ'), ('बाळशास्त्री', 'NNPC'), ('जांभेकर', 'NNP'), ('यांच्या', 'PRP'), ('१९५व्या', 'QC'), ('जयंतीनिमित्त', 'NN'), ('महाराष्ट्र', 'NNPC'), ('संपादक', 'NNPC'), ('परिषद', 'NNP'), ('व', 'CC'), ('सिंधुदुर्ग', 'NNPC'), ('जिल्हा', 'NNPC'), ('मराठी', 'NNPC'), ('पत्रकार', 'NNPC'), ('संघाच्या', 'NNP'), ('वतीने', 'NN'), ('तसेच', 'CC'), ('महाराष्ट्र', 'NNPC'), ('जर्नलिस्ट', 'NNPC'), ('फाउंडेशन', 'NNP'), ('व', 'CC'), ('महाराष्ट्र', 'NNPC'), ('ग्रामीण', 'NNPC'), ('पत्रकार', 'NNPC'), ('संघाच्या', 'NNP'), ('सहभागाने', 'NN'), ('अभिवादन', 'NN'), ('कार्यक्रम', 'NN'), ('आयोजित', 'JJ'), ('केला', 'VM'), ('होता', 'VAUX'), ('.', 'SYM'), ('महाराष्ट्र', 'NNPC'), ('संपादक', 'NNPC'), ('परिषदेचे', 'NNP'), ('कार्याध्यक्ष', 'NN'), ('यशवंत', 'NNPC'), ('पाध्ये', 'NNP'), (',', 'SYM'), ('जिल्हा', 'NNPC'), ('पत्रकार', 'NNPC'), ('संघाचे', 'NNP')]\n"
     ]
    }
   ],
   "source": [
    "#nltk provides the functionality of word tokenizer, tagged using tnt() for Marathi Language\n",
    "tagged_words = (tnt_pos_tagger.tag(nltk.word_tokenize(Mar)))\n",
    "print(tagged_words[:50])"
   ]
  },
  {
   "cell_type": "markdown",
   "metadata": {},
   "source": [
    "# Stemmer"
   ]
  },
  {
   "cell_type": "markdown",
   "metadata": {},
   "source": [
    "# RegexpStemmer"
   ]
  },
  {
   "cell_type": "code",
   "execution_count": 50,
   "metadata": {},
   "outputs": [
    {
     "data": {
      "text/plain": [
       "'लढवा'"
      ]
     },
     "execution_count": 50,
     "metadata": {},
     "output_type": "execute_result"
    }
   ],
   "source": [
    "#class------> RegexpStemmer from nltk.stem package\n",
    "#uses regular expressions to identify morphological affixes\n",
    "#substrings that match the regular exp that will be removed\n",
    "from nltk.stem import RegexpStemmer\n",
    "#substring----> 'ing'\n",
    "#object-->stemmerregexp\n",
    "stemmerregexp = RegexpStemmer('यचा')\n",
    "#for word laughing पक्षाच\n",
    "stemmerregexp.stem('लढवायचा')"
   ]
  },
  {
   "cell_type": "code",
   "execution_count": 51,
   "metadata": {},
   "outputs": [
    {
     "data": {
      "text/plain": [
       "'पक्ष'"
      ]
     },
     "execution_count": 51,
     "metadata": {},
     "output_type": "execute_result"
    }
   ],
   "source": [
    "stemmerregexp = RegexpStemmer('ाचा')\n",
    "#for word laughing पक्षाच\n",
    "stemmerregexp.stem('पक्षाचा')"
   ]
  },
  {
   "cell_type": "code",
   "execution_count": 52,
   "metadata": {},
   "outputs": [
    {
     "data": {
      "text/plain": [
       "'सहभाग'"
      ]
     },
     "execution_count": 52,
     "metadata": {},
     "output_type": "execute_result"
    }
   ],
   "source": [
    "stemmerregexp = RegexpStemmer('ाने')\n",
    "#for word laughing पक्षाच\n",
    "stemmerregexp.stem('सहभागाने')"
   ]
  },
  {
   "cell_type": "code",
   "execution_count": 53,
   "metadata": {},
   "outputs": [
    {
     "data": {
      "text/plain": [
       "'अध्यक्ष'"
      ]
     },
     "execution_count": 53,
     "metadata": {},
     "output_type": "execute_result"
    }
   ],
   "source": [
    "stemmerregexp = RegexpStemmer('तेखाली')\n",
    "stemmerregexp.stem('अध्यक्षतेखाली')#"
   ]
  },
  {
   "cell_type": "markdown",
   "metadata": {},
   "source": [
    "# WordEmbedding"
   ]
  },
  {
   "cell_type": "code",
   "execution_count": 1,
   "metadata": {},
   "outputs": [
    {
     "data": {
      "text/html": [],
      "text/plain": [
       "<IPython.core.display.HTML object>"
      ]
     },
     "metadata": {},
     "output_type": "display_data"
    },
    {
     "data": {
      "text/html": [],
      "text/plain": [
       "<IPython.core.display.HTML object>"
      ]
     },
     "metadata": {},
     "output_type": "display_data"
    },
    {
     "name": "stdout",
     "output_type": "stream",
     "text": [
      "[array([ 0.469475, -0.721175,  0.12802 , -0.103555, ...,  0.333875, -0.064423, -0.416993,  0.24901 ], dtype=float32), array([-0.044716, -0.059687,  0.115217, -0.079863, ..., -0.211824,  0.021941, -0.310126,  0.231043], dtype=float32), array([ 1.012175, -0.259352, -0.154696,  0.023067, ..., -0.015329,  0.1179  ,  0.042505, -0.563673], dtype=float32), array([-1.034093,  1.27958 ,  0.302887,  0.606209, ...,  0.058533, -0.463528,  0.251517, -0.747619], dtype=float32), array([-0.444713,  1.204554, -0.428673, -0.734121, ...,  0.986748,  0.151035, -1.096143, -0.123966], dtype=float32)]\n",
      "shape: (400,)\n"
     ]
    }
   ],
   "source": [
    "from inltk.inltk import get_embedding_vectors\n",
    "import warnings\n",
    "warnings.filterwarnings(\"ignore\")\n",
    "# embedding words\n",
    "vectors = get_embedding_vectors(\"मला संध्याकाळी खेळायचे आहे\", \"mr\")\n",
    "print(vectors)\n",
    "# shape of the first word\n",
    "print(\"shape:\", vectors[0].shape)"
   ]
  },
  {
   "cell_type": "markdown",
   "metadata": {},
   "source": [
    "# Wheather a character is vowel or consonant?"
   ]
  },
  {
   "cell_type": "code",
   "execution_count": 2,
   "metadata": {},
   "outputs": [
    {
     "name": "stdout",
     "output_type": "stream",
     "text": [
      "Is vowel?:  False\n",
      "Is consonant?:  True\n"
     ]
    }
   ],
   "source": [
    "from indicnlp.langinfo import *\n",
    "#character \n",
    "c='म'\n",
    "#Language---->Marathi\n",
    "lang='mr'\n",
    "print('Is vowel?:  {}'.format(is_vowel(c,lang)))\n",
    "print('Is consonant?:  {}'.format(is_consonant(c,lang)))"
   ]
  },
  {
   "cell_type": "markdown",
   "metadata": {},
   "source": [
    "# Cosine Similarity¶"
   ]
  },
  {
   "cell_type": "code",
   "execution_count": null,
   "metadata": {},
   "outputs": [],
   "source": [
    "import warnings\n",
    "from inltk.inltk import get_sentence_similarity\n",
    "warnings.filterwarnings(\"ignore\")\n",
    "#warnings.warn(msg, SourceChangeWarning,\"ignore\")\n",
    "# similarity of encodings is calculated by using cmp function whose default is cosine similarity\n",
    "get_sentence_similarity('मला संध्याकाळी खेळायचे आहे.', 'मी संध्याकाळी खेळायला आहे.', 'mr')"
   ]
  },
  {
   "cell_type": "markdown",
   "metadata": {},
   "source": [
    "# Research paper about Regional Languages in NLP perspective"
   ]
  },
  {
   "cell_type": "markdown",
   "metadata": {},
   "source": [
    "1.Patawar, Maithilee L., and M. A. Potey. “Extending Hybrid Conditional Random Fields Approach of Named Entity Recognition for Marathi Tweets.” 2016 International Conference on Computing Communication Control and Automation (ICCUBEA), Computing Communication Control and Automation (ICCUBEA), 2016 International Conference On, Aug. 2016, pp. 1–5. EBSCOhost, doi:10.1109/ICCUBEA.2016.7860039. \n",
    "\n",
    "2.Patil, Harshali B., and Ajay S. Patil. “MarS: A Rule-Based Stemmer for Morphologically Rich Language Marathi.” 2017 International Conference on Computer, Communications and Electronics (Comptelix), Computer, Communications and Electronics (Comptelix), 2017 International Conference On, July 2017, pp. 580–584. EBSCOhost, doi:10.1109/COMPTELIX.2017.8004036.\n",
    "\n",
    "3.Singh, J., et al. “Development of Marathi Part of Speech Tagger Using Statistical Approach.” 2013 International Conference on Advances in Computing, Communications and Informatics (ICACCI), Advances in Computing, Communications and Informatics (ICACCI), 2013 International Conference On, Aug. 2013, pp. 1554–1559. EBSCOhost, doi:10.1109/ICACCI.2013.6637411."
   ]
  }
 ],
 "metadata": {
  "kernelspec": {
   "display_name": "Python 3",
   "language": "python",
   "name": "python3"
  },
  "language_info": {
   "codemirror_mode": {
    "name": "ipython",
    "version": 3
   },
   "file_extension": ".py",
   "mimetype": "text/x-python",
   "name": "python",
   "nbconvert_exporter": "python",
   "pygments_lexer": "ipython3",
   "version": "3.7.4"
  }
 },
 "nbformat": 4,
 "nbformat_minor": 2
}
